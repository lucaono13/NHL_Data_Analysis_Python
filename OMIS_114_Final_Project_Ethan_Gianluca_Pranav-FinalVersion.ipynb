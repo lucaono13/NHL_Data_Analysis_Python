{
 "cells": [
  {
   "cell_type": "markdown",
   "metadata": {},
   "source": [
    "# NHL GM/Coach Insights"
   ]
  },
  {
   "cell_type": "markdown",
   "metadata": {},
   "source": [
    "*Introduction to dataset*"
   ]
  },
  {
   "cell_type": "markdown",
   "metadata": {},
   "source": [
    "The NHL Game dataset comes from kaggle.com (https://www.kaggle.com/martinellis/nhl-game-data).\n",
    "It has in-depth statistics on games from the past 6 years (not including the 2018/19 season). The stats can be as macro as total games stats, or as micro as each different shift and their results or each play done by a player (a hit, shot, etc). We decided to focus on the overall team stats and player stats for each game.\n",
    "\n",
    "currentVenues.csv and outdoorArenas.csv were scrapped from Wikipedia as venues that have been played at in the previous 6 years."
   ]
  },
  {
   "cell_type": "markdown",
   "metadata": {},
   "source": [
    "*Notes on rows and columns*"
   ]
  },
  {
   "cell_type": "markdown",
   "metadata": {},
   "source": [
    "Each row and column is different for each .csv file. For the game_player_stats.csv, each row represents the player's stats for each game they played, and the rows tell the total statistics of that game. For the game_team_stats.csv, each row represents the stats that are tracked for the overall team per game. \n",
    "\n",
    "For both csv's, the game_id is used to note which game they had the stats in so we can easily figure out who they played against, and with the currentArenas.csv file, we can note where they played as well due to the home or away column in both the player and team files.\n",
    "\n",
    "All other columns have straight forward names that describe what they describe.\n",
    "\n",
    "*Note on assists: Assists are not exclusively the last player on the same team to pass the puck to the scorer, but also the player who passed the puck to the primary assister (aka secondary assist), though not all goals have a secondary or even primary assists.*\n",
    "\n",
    "*Time On Ice is measured in seconds and not minutes* \n",
    "\n",
    "*A lot of the columns were dropped to to not needing them at all and not being relevant to the insights. Tables were made and shown showing the most pertinent columns and info.*"
   ]
  },
  {
   "cell_type": "markdown",
   "metadata": {},
   "source": [
    "*Notes on terminology necessary*\n",
    "\n",
    "Power play: When one team has a player advantage because one or two members of the other team have been sent to the penalty box for committing a penalty (either for 2 minutes (minor) or 4 minutes (double minor)).\n",
    "\n",
    "Short handed: When one team has fewer player than the other team due to a power play.\n",
    "\n",
    "Even-strength: When both teams have the same number of players on the ice.\n",
    "\n",
    "Plus/minus: A player is awarded a plus when he is on the ice for an even-strength or shorthanded goal and is awarded a minus when he is on the ice for an even-strength or shorthanded goal by the opponent.\n"
   ]
  },
  {
   "cell_type": "code",
   "execution_count": 1,
   "metadata": {},
   "outputs": [
    {
     "name": "stdout",
     "output_type": "stream",
     "text": [
      "Populating the interactive namespace from numpy and matplotlib\n"
     ]
    }
   ],
   "source": [
    "import pandas as pd\n",
    "import numpy as np\n",
    "import seaborn as sns\n",
    "%pylab inline\n",
    "\n",
    "import sklearn as sk\n",
    "import sklearn.tree as tree\n",
    "from IPython.display import Image\n",
    "import pydotplus\n",
    "\n",
    "import sklearn as sk\n",
    "import warnings \n",
    "warnings.filterwarnings('ignore')"
   ]
  },
  {
   "cell_type": "code",
   "execution_count": null,
   "metadata": {},
   "outputs": [],
   "source": []
  },
  {
   "cell_type": "code",
   "execution_count": 2,
   "metadata": {},
   "outputs": [],
   "source": [
    "pd.set_option('display.max_rows', 500)\n",
    "pd.set_option('display.max_columns', 500)\n",
    "pd.set_option('display.width', 1000)"
   ]
  },
  {
   "cell_type": "markdown",
   "metadata": {},
   "source": [
    "**dfP will hold the information in player_info.csv, and will be cleaned for merging below**"
   ]
  },
  {
   "cell_type": "code",
   "execution_count": 3,
   "metadata": {
    "scrolled": false
   },
   "outputs": [],
   "source": [
    "dfP = pd.read_csv('player_info.csv')"
   ]
  },
  {
   "cell_type": "code",
   "execution_count": 4,
   "metadata": {},
   "outputs": [
    {
     "data": {
      "text/plain": [
       "['player_id',\n",
       " 'firstName',\n",
       " 'lastName',\n",
       " 'nationality',\n",
       " 'birthCity',\n",
       " 'primaryPosition',\n",
       " 'birthDate',\n",
       " 'link']"
      ]
     },
     "execution_count": 4,
     "metadata": {},
     "output_type": "execute_result"
    }
   ],
   "source": [
    "dfP.columns.tolist()"
   ]
  },
  {
   "cell_type": "code",
   "execution_count": 5,
   "metadata": {},
   "outputs": [],
   "source": [
    "dfP.drop(['link', 'birthCity'], axis = 1,\\\n",
    "              inplace=True)"
   ]
  },
  {
   "cell_type": "code",
   "execution_count": 6,
   "metadata": {
    "scrolled": false
   },
   "outputs": [
    {
     "data": {
      "text/html": [
       "<div>\n",
       "<style scoped>\n",
       "    .dataframe tbody tr th:only-of-type {\n",
       "        vertical-align: middle;\n",
       "    }\n",
       "\n",
       "    .dataframe tbody tr th {\n",
       "        vertical-align: top;\n",
       "    }\n",
       "\n",
       "    .dataframe thead th {\n",
       "        text-align: right;\n",
       "    }\n",
       "</style>\n",
       "<table border=\"1\" class=\"dataframe\">\n",
       "  <thead>\n",
       "    <tr style=\"text-align: right;\">\n",
       "      <th></th>\n",
       "      <th>player_id</th>\n",
       "      <th>firstName</th>\n",
       "      <th>lastName</th>\n",
       "      <th>nationality</th>\n",
       "      <th>primaryPosition</th>\n",
       "      <th>birthDate</th>\n",
       "    </tr>\n",
       "  </thead>\n",
       "  <tbody>\n",
       "    <tr>\n",
       "      <th>0</th>\n",
       "      <td>8467412</td>\n",
       "      <td>Alexei</td>\n",
       "      <td>Ponikarovsky</td>\n",
       "      <td>UKR</td>\n",
       "      <td>LW</td>\n",
       "      <td>1980-04-09</td>\n",
       "    </tr>\n",
       "    <tr>\n",
       "      <th>1</th>\n",
       "      <td>8468501</td>\n",
       "      <td>Anton</td>\n",
       "      <td>Volchenkov</td>\n",
       "      <td>RUS</td>\n",
       "      <td>D</td>\n",
       "      <td>1982-02-25</td>\n",
       "    </tr>\n",
       "    <tr>\n",
       "      <th>2</th>\n",
       "      <td>8459670</td>\n",
       "      <td>Kimmo</td>\n",
       "      <td>Timonen</td>\n",
       "      <td>FIN</td>\n",
       "      <td>D</td>\n",
       "      <td>1975-03-18</td>\n",
       "    </tr>\n",
       "    <tr>\n",
       "      <th>3</th>\n",
       "      <td>8471233</td>\n",
       "      <td>Travis</td>\n",
       "      <td>Zajac</td>\n",
       "      <td>CAN</td>\n",
       "      <td>C</td>\n",
       "      <td>1985-05-13</td>\n",
       "    </tr>\n",
       "    <tr>\n",
       "      <th>4</th>\n",
       "      <td>8455710</td>\n",
       "      <td>Martin</td>\n",
       "      <td>Brodeur</td>\n",
       "      <td>CAN</td>\n",
       "      <td>G</td>\n",
       "      <td>1972-05-06</td>\n",
       "    </tr>\n",
       "  </tbody>\n",
       "</table>\n",
       "</div>"
      ],
      "text/plain": [
       "   player_id firstName      lastName nationality primaryPosition   birthDate\n",
       "0    8467412    Alexei  Ponikarovsky         UKR              LW  1980-04-09\n",
       "1    8468501     Anton    Volchenkov         RUS               D  1982-02-25\n",
       "2    8459670     Kimmo       Timonen         FIN               D  1975-03-18\n",
       "3    8471233    Travis         Zajac         CAN               C  1985-05-13\n",
       "4    8455710    Martin       Brodeur         CAN               G  1972-05-06"
      ]
     },
     "execution_count": 6,
     "metadata": {},
     "output_type": "execute_result"
    }
   ],
   "source": [
    "dfP.head()"
   ]
  },
  {
   "cell_type": "code",
   "execution_count": 7,
   "metadata": {},
   "outputs": [],
   "source": [
    "dfP['Name'] = dfP.firstName + '_' + dfP.lastName"
   ]
  },
  {
   "cell_type": "code",
   "execution_count": 8,
   "metadata": {},
   "outputs": [
    {
     "data": {
      "text/html": [
       "<div>\n",
       "<style scoped>\n",
       "    .dataframe tbody tr th:only-of-type {\n",
       "        vertical-align: middle;\n",
       "    }\n",
       "\n",
       "    .dataframe tbody tr th {\n",
       "        vertical-align: top;\n",
       "    }\n",
       "\n",
       "    .dataframe thead th {\n",
       "        text-align: right;\n",
       "    }\n",
       "</style>\n",
       "<table border=\"1\" class=\"dataframe\">\n",
       "  <thead>\n",
       "    <tr style=\"text-align: right;\">\n",
       "      <th></th>\n",
       "      <th>player_id</th>\n",
       "      <th>firstName</th>\n",
       "      <th>lastName</th>\n",
       "      <th>nationality</th>\n",
       "      <th>primaryPosition</th>\n",
       "      <th>birthDate</th>\n",
       "      <th>Name</th>\n",
       "    </tr>\n",
       "  </thead>\n",
       "  <tbody>\n",
       "    <tr>\n",
       "      <th>0</th>\n",
       "      <td>8467412</td>\n",
       "      <td>Alexei</td>\n",
       "      <td>Ponikarovsky</td>\n",
       "      <td>UKR</td>\n",
       "      <td>LW</td>\n",
       "      <td>1980-04-09</td>\n",
       "      <td>Alexei_Ponikarovsky</td>\n",
       "    </tr>\n",
       "    <tr>\n",
       "      <th>1</th>\n",
       "      <td>8468501</td>\n",
       "      <td>Anton</td>\n",
       "      <td>Volchenkov</td>\n",
       "      <td>RUS</td>\n",
       "      <td>D</td>\n",
       "      <td>1982-02-25</td>\n",
       "      <td>Anton_Volchenkov</td>\n",
       "    </tr>\n",
       "    <tr>\n",
       "      <th>2</th>\n",
       "      <td>8459670</td>\n",
       "      <td>Kimmo</td>\n",
       "      <td>Timonen</td>\n",
       "      <td>FIN</td>\n",
       "      <td>D</td>\n",
       "      <td>1975-03-18</td>\n",
       "      <td>Kimmo_Timonen</td>\n",
       "    </tr>\n",
       "    <tr>\n",
       "      <th>3</th>\n",
       "      <td>8471233</td>\n",
       "      <td>Travis</td>\n",
       "      <td>Zajac</td>\n",
       "      <td>CAN</td>\n",
       "      <td>C</td>\n",
       "      <td>1985-05-13</td>\n",
       "      <td>Travis_Zajac</td>\n",
       "    </tr>\n",
       "    <tr>\n",
       "      <th>4</th>\n",
       "      <td>8455710</td>\n",
       "      <td>Martin</td>\n",
       "      <td>Brodeur</td>\n",
       "      <td>CAN</td>\n",
       "      <td>G</td>\n",
       "      <td>1972-05-06</td>\n",
       "      <td>Martin_Brodeur</td>\n",
       "    </tr>\n",
       "  </tbody>\n",
       "</table>\n",
       "</div>"
      ],
      "text/plain": [
       "   player_id firstName      lastName nationality primaryPosition   birthDate                 Name\n",
       "0    8467412    Alexei  Ponikarovsky         UKR              LW  1980-04-09  Alexei_Ponikarovsky\n",
       "1    8468501     Anton    Volchenkov         RUS               D  1982-02-25     Anton_Volchenkov\n",
       "2    8459670     Kimmo       Timonen         FIN               D  1975-03-18        Kimmo_Timonen\n",
       "3    8471233    Travis         Zajac         CAN               C  1985-05-13         Travis_Zajac\n",
       "4    8455710    Martin       Brodeur         CAN               G  1972-05-06       Martin_Brodeur"
      ]
     },
     "execution_count": 8,
     "metadata": {},
     "output_type": "execute_result"
    }
   ],
   "source": [
    "dfP.head()"
   ]
  },
  {
   "cell_type": "code",
   "execution_count": 9,
   "metadata": {},
   "outputs": [],
   "source": [
    "dfP.drop(['firstName', 'lastName'], axis = 1, inplace = True)"
   ]
  },
  {
   "cell_type": "code",
   "execution_count": 10,
   "metadata": {},
   "outputs": [
    {
     "data": {
      "text/plain": [
       "2246"
      ]
     },
     "execution_count": 10,
     "metadata": {},
     "output_type": "execute_result"
    }
   ],
   "source": [
    "len(dfP)"
   ]
  },
  {
   "cell_type": "code",
   "execution_count": 11,
   "metadata": {},
   "outputs": [
    {
     "data": {
      "text/plain": [
       "player_id          False\n",
       "nationality         True\n",
       "primaryPosition    False\n",
       "birthDate          False\n",
       "Name               False\n",
       "dtype: bool"
      ]
     },
     "execution_count": 11,
     "metadata": {},
     "output_type": "execute_result"
    }
   ],
   "source": [
    "dfP.isna().any()"
   ]
  },
  {
   "cell_type": "code",
   "execution_count": 12,
   "metadata": {},
   "outputs": [
    {
     "data": {
      "text/plain": [
       "player_id          0\n",
       "nationality        4\n",
       "primaryPosition    0\n",
       "birthDate          0\n",
       "Name               0\n",
       "dtype: int64"
      ]
     },
     "execution_count": 12,
     "metadata": {},
     "output_type": "execute_result"
    }
   ],
   "source": [
    "dfP.isna().sum()"
   ]
  },
  {
   "cell_type": "code",
   "execution_count": 13,
   "metadata": {},
   "outputs": [],
   "source": [
    "dfP.fillna(\"Unknown\", inplace=True)"
   ]
  },
  {
   "cell_type": "code",
   "execution_count": 14,
   "metadata": {},
   "outputs": [
    {
     "data": {
      "text/plain": [
       "0"
      ]
     },
     "execution_count": 14,
     "metadata": {},
     "output_type": "execute_result"
    }
   ],
   "source": [
    "dfP.isna().sum().sum()"
   ]
  },
  {
   "cell_type": "code",
   "execution_count": 15,
   "metadata": {},
   "outputs": [
    {
     "data": {
      "text/plain": [
       "26"
      ]
     },
     "execution_count": 15,
     "metadata": {},
     "output_type": "execute_result"
    }
   ],
   "source": [
    "dfP.nationality.nunique()"
   ]
  },
  {
   "cell_type": "code",
   "execution_count": 16,
   "metadata": {},
   "outputs": [
    {
     "data": {
      "text/plain": [
       "5"
      ]
     },
     "execution_count": 16,
     "metadata": {},
     "output_type": "execute_result"
    }
   ],
   "source": [
    "dfP.primaryPosition.nunique()"
   ]
  },
  {
   "cell_type": "code",
   "execution_count": 17,
   "metadata": {},
   "outputs": [],
   "source": [
    "dfP.birthDate = dfP.birthDate\\\n",
    "  .apply(lambda x:int(pd.to_datetime('today').year - pd.to_datetime(x).year))"
   ]
  },
  {
   "cell_type": "code",
   "execution_count": 18,
   "metadata": {},
   "outputs": [],
   "source": [
    "dfP.rename(columns={'birthDate':'age'}, inplace=True)"
   ]
  },
  {
   "cell_type": "markdown",
   "metadata": {},
   "source": [
    "**dfP is now cleaned and ready**"
   ]
  },
  {
   "cell_type": "markdown",
   "metadata": {},
   "source": [
    "**dfT will hold the information in player_info.csv, and will be cleaned for merging below**"
   ]
  },
  {
   "cell_type": "code",
   "execution_count": 19,
   "metadata": {},
   "outputs": [],
   "source": [
    "dfT = pd.read_csv('team_info.csv')"
   ]
  },
  {
   "cell_type": "code",
   "execution_count": 20,
   "metadata": {},
   "outputs": [
    {
     "data": {
      "text/plain": [
       "['team_id', 'franchiseId', 'shortName', 'teamName', 'abbreviation', 'link']"
      ]
     },
     "execution_count": 20,
     "metadata": {},
     "output_type": "execute_result"
    }
   ],
   "source": [
    "dfT.columns.tolist()"
   ]
  },
  {
   "cell_type": "code",
   "execution_count": 21,
   "metadata": {},
   "outputs": [],
   "source": [
    "dfT.drop(['franchiseId', 'teamName', 'abbreviation', 'link'], axis=1,\\\n",
    "             inplace=True)"
   ]
  },
  {
   "cell_type": "code",
   "execution_count": 22,
   "metadata": {},
   "outputs": [
    {
     "data": {
      "text/plain": [
       "team_id      False\n",
       "shortName    False\n",
       "dtype: bool"
      ]
     },
     "execution_count": 22,
     "metadata": {},
     "output_type": "execute_result"
    }
   ],
   "source": [
    "dfT.isna().any()"
   ]
  },
  {
   "cell_type": "code",
   "execution_count": 23,
   "metadata": {},
   "outputs": [
    {
     "data": {
      "text/plain": [
       "33"
      ]
     },
     "execution_count": 23,
     "metadata": {},
     "output_type": "execute_result"
    }
   ],
   "source": [
    "dfT.shortName.nunique()"
   ]
  },
  {
   "cell_type": "code",
   "execution_count": 24,
   "metadata": {},
   "outputs": [],
   "source": [
    "dfT.rename(columns={'shortName':'teamName'}, inplace=True)"
   ]
  },
  {
   "cell_type": "markdown",
   "metadata": {},
   "source": [
    "**dfT is now cleaned and ready**"
   ]
  },
  {
   "cell_type": "markdown",
   "metadata": {},
   "source": [
    "**dfG will hold the information in game.csv, and will be cleaned for merging below**"
   ]
  },
  {
   "cell_type": "code",
   "execution_count": 25,
   "metadata": {},
   "outputs": [],
   "source": [
    "dfG = pd.read_csv('game.csv')"
   ]
  },
  {
   "cell_type": "code",
   "execution_count": 26,
   "metadata": {},
   "outputs": [
    {
     "data": {
      "text/plain": [
       "['game_id',\n",
       " 'season',\n",
       " 'type',\n",
       " 'date_time',\n",
       " 'away_team_id',\n",
       " 'home_team_id',\n",
       " 'away_goals',\n",
       " 'home_goals',\n",
       " 'outcome',\n",
       " 'home_rink_side_start',\n",
       " 'venue',\n",
       " 'venue_link',\n",
       " 'venue_time_zone_id',\n",
       " 'venue_time_zone_offset',\n",
       " 'venue_time_zone_tz']"
      ]
     },
     "execution_count": 26,
     "metadata": {},
     "output_type": "execute_result"
    }
   ],
   "source": [
    "dfG.columns.tolist()"
   ]
  },
  {
   "cell_type": "code",
   "execution_count": 27,
   "metadata": {},
   "outputs": [],
   "source": [
    "dfG.drop(['season', 'away_goals','home_goals', 'home_rink_side_start',\\\n",
    "              'venue_link','venue_time_zone_id', 'venue_time_zone_offset',\\\n",
    "              'venue_time_zone_tz', 'outcome', 'home_team_id',\\\n",
    "              'away_team_id'], axis=1, inplace=True)"
   ]
  },
  {
   "cell_type": "code",
   "execution_count": 28,
   "metadata": {},
   "outputs": [
    {
     "data": {
      "text/html": [
       "<div>\n",
       "<style scoped>\n",
       "    .dataframe tbody tr th:only-of-type {\n",
       "        vertical-align: middle;\n",
       "    }\n",
       "\n",
       "    .dataframe tbody tr th {\n",
       "        vertical-align: top;\n",
       "    }\n",
       "\n",
       "    .dataframe thead th {\n",
       "        text-align: right;\n",
       "    }\n",
       "</style>\n",
       "<table border=\"1\" class=\"dataframe\">\n",
       "  <thead>\n",
       "    <tr style=\"text-align: right;\">\n",
       "      <th></th>\n",
       "      <th>game_id</th>\n",
       "      <th>type</th>\n",
       "      <th>date_time</th>\n",
       "      <th>venue</th>\n",
       "    </tr>\n",
       "  </thead>\n",
       "  <tbody>\n",
       "    <tr>\n",
       "      <th>0</th>\n",
       "      <td>2012030221</td>\n",
       "      <td>P</td>\n",
       "      <td>2013-05-16T23:30:00Z</td>\n",
       "      <td>TD Garden</td>\n",
       "    </tr>\n",
       "    <tr>\n",
       "      <th>1</th>\n",
       "      <td>2012030222</td>\n",
       "      <td>P</td>\n",
       "      <td>2013-05-19T19:00:00Z</td>\n",
       "      <td>TD Garden</td>\n",
       "    </tr>\n",
       "    <tr>\n",
       "      <th>2</th>\n",
       "      <td>2012030223</td>\n",
       "      <td>P</td>\n",
       "      <td>2013-05-21T23:30:00Z</td>\n",
       "      <td>Madison Square Garden</td>\n",
       "    </tr>\n",
       "    <tr>\n",
       "      <th>3</th>\n",
       "      <td>2012030224</td>\n",
       "      <td>P</td>\n",
       "      <td>2013-05-23T23:00:00Z</td>\n",
       "      <td>Madison Square Garden</td>\n",
       "    </tr>\n",
       "    <tr>\n",
       "      <th>4</th>\n",
       "      <td>2012030225</td>\n",
       "      <td>P</td>\n",
       "      <td>2013-05-25T21:30:00Z</td>\n",
       "      <td>TD Garden</td>\n",
       "    </tr>\n",
       "  </tbody>\n",
       "</table>\n",
       "</div>"
      ],
      "text/plain": [
       "      game_id type             date_time                  venue\n",
       "0  2012030221    P  2013-05-16T23:30:00Z              TD Garden\n",
       "1  2012030222    P  2013-05-19T19:00:00Z              TD Garden\n",
       "2  2012030223    P  2013-05-21T23:30:00Z  Madison Square Garden\n",
       "3  2012030224    P  2013-05-23T23:00:00Z  Madison Square Garden\n",
       "4  2012030225    P  2013-05-25T21:30:00Z              TD Garden"
      ]
     },
     "execution_count": 28,
     "metadata": {},
     "output_type": "execute_result"
    }
   ],
   "source": [
    "dfG.head()"
   ]
  },
  {
   "cell_type": "code",
   "execution_count": 29,
   "metadata": {},
   "outputs": [
    {
     "data": {
      "text/plain": [
       "7441"
      ]
     },
     "execution_count": 29,
     "metadata": {},
     "output_type": "execute_result"
    }
   ],
   "source": [
    "len(dfG)"
   ]
  },
  {
   "cell_type": "code",
   "execution_count": 30,
   "metadata": {},
   "outputs": [
    {
     "data": {
      "text/plain": [
       "game_id      False\n",
       "type         False\n",
       "date_time    False\n",
       "venue        False\n",
       "dtype: bool"
      ]
     },
     "execution_count": 30,
     "metadata": {},
     "output_type": "execute_result"
    }
   ],
   "source": [
    "dfG.isna().any()"
   ]
  },
  {
   "cell_type": "code",
   "execution_count": 31,
   "metadata": {},
   "outputs": [
    {
     "data": {
      "text/plain": [
       "2"
      ]
     },
     "execution_count": 31,
     "metadata": {},
     "output_type": "execute_result"
    }
   ],
   "source": [
    "dfG.type.nunique()"
   ]
  },
  {
   "cell_type": "code",
   "execution_count": 32,
   "metadata": {},
   "outputs": [
    {
     "data": {
      "text/plain": [
       "65"
      ]
     },
     "execution_count": 32,
     "metadata": {},
     "output_type": "execute_result"
    }
   ],
   "source": [
    "dfG.venue.nunique()"
   ]
  },
  {
   "cell_type": "code",
   "execution_count": 33,
   "metadata": {},
   "outputs": [],
   "source": [
    "dfG['venue'] = dfG.venue.apply(lambda x: x.strip())"
   ]
  },
  {
   "cell_type": "code",
   "execution_count": 34,
   "metadata": {},
   "outputs": [
    {
     "data": {
      "text/plain": [
       "61"
      ]
     },
     "execution_count": 34,
     "metadata": {},
     "output_type": "execute_result"
    }
   ],
   "source": [
    "dfG.venue.nunique()"
   ]
  },
  {
   "cell_type": "code",
   "execution_count": 35,
   "metadata": {},
   "outputs": [],
   "source": [
    "currentArenas = pd.read_csv('currentArenas.csv')"
   ]
  },
  {
   "cell_type": "code",
   "execution_count": 36,
   "metadata": {},
   "outputs": [],
   "source": [
    "currentArenas2 = pd.read_csv('currentArenas.csv')"
   ]
  },
  {
   "cell_type": "code",
   "execution_count": 37,
   "metadata": {},
   "outputs": [
    {
     "data": {
      "text/html": [
       "<div>\n",
       "<style scoped>\n",
       "    .dataframe tbody tr th:only-of-type {\n",
       "        vertical-align: middle;\n",
       "    }\n",
       "\n",
       "    .dataframe tbody tr th {\n",
       "        vertical-align: top;\n",
       "    }\n",
       "\n",
       "    .dataframe thead th {\n",
       "        text-align: right;\n",
       "    }\n",
       "</style>\n",
       "<table border=\"1\" class=\"dataframe\">\n",
       "  <thead>\n",
       "    <tr style=\"text-align: right;\">\n",
       "      <th></th>\n",
       "      <th>Image</th>\n",
       "      <th>Arena</th>\n",
       "      <th>Location</th>\n",
       "      <th>Team(s)</th>\n",
       "      <th>Capacity</th>\n",
       "      <th>Opened</th>\n",
       "      <th>Season of first NHL game</th>\n",
       "      <th>Ref(s)</th>\n",
       "    </tr>\n",
       "  </thead>\n",
       "  <tbody>\n",
       "    <tr>\n",
       "      <th>0</th>\n",
       "      <td>NaN</td>\n",
       "      <td>Amalie Arena</td>\n",
       "      <td>Tampa, Florida</td>\n",
       "      <td>Tampa Bay Lightning</td>\n",
       "      <td>19,092</td>\n",
       "      <td>1996</td>\n",
       "      <td>1996–97</td>\n",
       "      <td>[1]</td>\n",
       "    </tr>\n",
       "    <tr>\n",
       "      <th>1</th>\n",
       "      <td>NaN</td>\n",
       "      <td>American Airlines Center</td>\n",
       "      <td>Dallas, Texas</td>\n",
       "      <td>Dallas Stars</td>\n",
       "      <td>18,532</td>\n",
       "      <td>2001</td>\n",
       "      <td>2001–02</td>\n",
       "      <td>[2]</td>\n",
       "    </tr>\n",
       "    <tr>\n",
       "      <th>2</th>\n",
       "      <td>NaN</td>\n",
       "      <td>BB&amp;T Center</td>\n",
       "      <td>Sunrise, Florida</td>\n",
       "      <td>Florida Panthers</td>\n",
       "      <td>19,250</td>\n",
       "      <td>1998</td>\n",
       "      <td>1998–99</td>\n",
       "      <td>[3]</td>\n",
       "    </tr>\n",
       "    <tr>\n",
       "      <th>3</th>\n",
       "      <td>NaN</td>\n",
       "      <td>Barclays Center</td>\n",
       "      <td>Brooklyn, New York</td>\n",
       "      <td>New York Islanders</td>\n",
       "      <td>15,795</td>\n",
       "      <td>2012</td>\n",
       "      <td>2015–16</td>\n",
       "      <td>[4]</td>\n",
       "    </tr>\n",
       "    <tr>\n",
       "      <th>4</th>\n",
       "      <td>NaN</td>\n",
       "      <td>Nassau Coliseum</td>\n",
       "      <td>Uniondale, New York</td>\n",
       "      <td>New York Islanders</td>\n",
       "      <td>13,900</td>\n",
       "      <td>1972</td>\n",
       "      <td>1972–732018–19 (return)</td>\n",
       "      <td>[5]</td>\n",
       "    </tr>\n",
       "  </tbody>\n",
       "</table>\n",
       "</div>"
      ],
      "text/plain": [
       "   Image                     Arena             Location              Team(s) Capacity Opened Season of first NHL game Ref(s)\n",
       "0    NaN              Amalie Arena       Tampa, Florida  Tampa Bay Lightning   19,092   1996                  1996–97    [1]\n",
       "1    NaN  American Airlines Center        Dallas, Texas         Dallas Stars   18,532   2001                  2001–02    [2]\n",
       "2    NaN               BB&T Center     Sunrise, Florida     Florida Panthers   19,250   1998                  1998–99    [3]\n",
       "3    NaN           Barclays Center   Brooklyn, New York   New York Islanders   15,795   2012                  2015–16    [4]\n",
       "4    NaN           Nassau Coliseum  Uniondale, New York   New York Islanders   13,900   1972  1972–732018–19 (return)    [5]"
      ]
     },
     "execution_count": 37,
     "metadata": {},
     "output_type": "execute_result"
    }
   ],
   "source": [
    "currentArenas2.head()"
   ]
  },
  {
   "cell_type": "code",
   "execution_count": 38,
   "metadata": {},
   "outputs": [
    {
     "data": {
      "text/plain": [
       "Index(['Image', 'Arena', 'Location', 'Team(s)', 'Capacity', 'Opened', 'Season of first NHL game', 'Ref(s)'], dtype='object')"
      ]
     },
     "execution_count": 38,
     "metadata": {},
     "output_type": "execute_result"
    }
   ],
   "source": [
    "currentArenas.columns"
   ]
  },
  {
   "cell_type": "code",
   "execution_count": 39,
   "metadata": {},
   "outputs": [],
   "source": [
    "currentArenas.drop(['Image', 'Team(s)', 'Capacity', 'Opened',\\\n",
    "            'Season of first NHL game', 'Ref(s)'], axis=1, inplace=True)"
   ]
  },
  {
   "cell_type": "code",
   "execution_count": 40,
   "metadata": {},
   "outputs": [
    {
     "data": {
      "text/html": [
       "<div>\n",
       "<style scoped>\n",
       "    .dataframe tbody tr th:only-of-type {\n",
       "        vertical-align: middle;\n",
       "    }\n",
       "\n",
       "    .dataframe tbody tr th {\n",
       "        vertical-align: top;\n",
       "    }\n",
       "\n",
       "    .dataframe thead th {\n",
       "        text-align: right;\n",
       "    }\n",
       "</style>\n",
       "<table border=\"1\" class=\"dataframe\">\n",
       "  <thead>\n",
       "    <tr style=\"text-align: right;\">\n",
       "      <th></th>\n",
       "      <th>Arena</th>\n",
       "      <th>Location</th>\n",
       "    </tr>\n",
       "  </thead>\n",
       "  <tbody>\n",
       "    <tr>\n",
       "      <th>0</th>\n",
       "      <td>Amalie Arena</td>\n",
       "      <td>Tampa, Florida</td>\n",
       "    </tr>\n",
       "    <tr>\n",
       "      <th>1</th>\n",
       "      <td>American Airlines Center</td>\n",
       "      <td>Dallas, Texas</td>\n",
       "    </tr>\n",
       "    <tr>\n",
       "      <th>2</th>\n",
       "      <td>BB&amp;T Center</td>\n",
       "      <td>Sunrise, Florida</td>\n",
       "    </tr>\n",
       "    <tr>\n",
       "      <th>3</th>\n",
       "      <td>Barclays Center</td>\n",
       "      <td>Brooklyn, New York</td>\n",
       "    </tr>\n",
       "    <tr>\n",
       "      <th>4</th>\n",
       "      <td>Nassau Coliseum</td>\n",
       "      <td>Uniondale, New York</td>\n",
       "    </tr>\n",
       "  </tbody>\n",
       "</table>\n",
       "</div>"
      ],
      "text/plain": [
       "                      Arena             Location\n",
       "0              Amalie Arena       Tampa, Florida\n",
       "1  American Airlines Center        Dallas, Texas\n",
       "2               BB&T Center     Sunrise, Florida\n",
       "3           Barclays Center   Brooklyn, New York\n",
       "4           Nassau Coliseum  Uniondale, New York"
      ]
     },
     "execution_count": 40,
     "metadata": {},
     "output_type": "execute_result"
    }
   ],
   "source": [
    "currentArenas.head()"
   ]
  },
  {
   "cell_type": "code",
   "execution_count": 41,
   "metadata": {},
   "outputs": [
    {
     "data": {
      "text/plain": [
       "32"
      ]
     },
     "execution_count": 41,
     "metadata": {},
     "output_type": "execute_result"
    }
   ],
   "source": [
    "currentArenas.Arena.nunique()"
   ]
  },
  {
   "cell_type": "code",
   "execution_count": 42,
   "metadata": {},
   "outputs": [
    {
     "name": "stdout",
     "output_type": "stream",
     "text": [
      "28\n"
     ]
    }
   ],
   "source": [
    "count = 0\n",
    "for x in currentArenas.Arena.tolist():\n",
    "    if x in dfG.venue.unique().tolist():\n",
    "        count = count + 1\n",
    "print(count)"
   ]
  },
  {
   "cell_type": "code",
   "execution_count": 43,
   "metadata": {},
   "outputs": [
    {
     "name": "stdout",
     "output_type": "stream",
     "text": [
      "Bell Centre\n",
      "Enterprise Center\n",
      "Scotiabank Arena\n",
      "SAP Center\n"
     ]
    }
   ],
   "source": [
    "for x in currentArenas.Arena.tolist():\n",
    "    if x not in dfG.venue.unique().tolist():\n",
    "        print(x)"
   ]
  },
  {
   "cell_type": "code",
   "execution_count": 44,
   "metadata": {},
   "outputs": [
    {
     "name": "stdout",
     "output_type": "stream",
     "text": [
      "Bell Centre: Centre Bell\n",
      "SAP Center: SAP Center at San Jose\n"
     ]
    }
   ],
   "source": [
    "for x in dfG.venue.unique().tolist():\n",
    "    if 'Bell' in x and 'Centre' in x:\n",
    "        print('Bell Centre: ' + x)\n",
    "    if 'SAP' in x and 'Center' in x:\n",
    "        print('SAP Center: ' + x)"
   ]
  },
  {
   "cell_type": "code",
   "execution_count": 45,
   "metadata": {},
   "outputs": [
    {
     "name": "stdout",
     "output_type": "stream",
     "text": [
      "Enterprise Center: Scottrade Center\n",
      "Scotiabank Arena: Air Canada Centre\n"
     ]
    }
   ],
   "source": [
    "for x in dfG.venue.unique().tolist():\n",
    "    if 'Scottrade' in x and 'Center' in x:\n",
    "        print('Enterprise Center: ' + x)\n",
    "    if 'Air' in x and 'Canada' in x:\n",
    "        print('Scotiabank Arena: ' + x)"
   ]
  },
  {
   "cell_type": "code",
   "execution_count": 46,
   "metadata": {},
   "outputs": [],
   "source": [
    "currentArenas.Arena.replace(to_replace=['Bell Centre', 'Enterprise Center',\\\n",
    "                'Scotiabank Arena', 'SAP Center'], value=['Centre Bell',\\\n",
    "                'Scottrade Center', 'Air Canada Centre', 'SAP Center at San Jose'],\\\n",
    "                inplace=True)"
   ]
  },
  {
   "cell_type": "code",
   "execution_count": 47,
   "metadata": {},
   "outputs": [
    {
     "name": "stdout",
     "output_type": "stream",
     "text": [
      "0\n"
     ]
    }
   ],
   "source": [
    "count = 0\n",
    "for x in currentArenas.Arena.tolist():\n",
    "    if x not in dfG.venue.unique().tolist():\n",
    "        count = count + 1\n",
    "print(count)"
   ]
  },
  {
   "cell_type": "code",
   "execution_count": 48,
   "metadata": {},
   "outputs": [],
   "source": [
    "outdoorVenues = pd.read_csv('outdoorVenues.csv')"
   ]
  },
  {
   "cell_type": "code",
   "execution_count": 49,
   "metadata": {},
   "outputs": [],
   "source": [
    "outdoorVenues.drop(['Host Team', 'Event', 'Year used', 'Attendance',\\\n",
    "                    'Ref(s)'], axis=1, inplace=True)"
   ]
  },
  {
   "cell_type": "code",
   "execution_count": 50,
   "metadata": {},
   "outputs": [],
   "source": [
    "venueLocations = pd.concat([currentArenas, outdoorVenues])"
   ]
  },
  {
   "cell_type": "code",
   "execution_count": 51,
   "metadata": {},
   "outputs": [],
   "source": [
    "test = dfG.merge(venueLocations, left_on='venue', right_on='Arena', how='left')"
   ]
  },
  {
   "cell_type": "code",
   "execution_count": 52,
   "metadata": {},
   "outputs": [
    {
     "data": {
      "text/plain": [
       "game_id         0\n",
       "type            0\n",
       "date_time       0\n",
       "venue           0\n",
       "Arena        1434\n",
       "Location     1434\n",
       "dtype: int64"
      ]
     },
     "execution_count": 52,
     "metadata": {},
     "output_type": "execute_result"
    }
   ],
   "source": [
    "test.isna().sum()"
   ]
  },
  {
   "cell_type": "code",
   "execution_count": 53,
   "metadata": {},
   "outputs": [
    {
     "data": {
      "text/plain": [
       "15"
      ]
     },
     "execution_count": 53,
     "metadata": {},
     "output_type": "execute_result"
    }
   ],
   "source": [
    "test[test.isnull().any(axis=1)].venue.nunique()"
   ]
  },
  {
   "cell_type": "code",
   "execution_count": 54,
   "metadata": {
    "scrolled": true
   },
   "outputs": [
    {
     "data": {
      "text/plain": [
       "array(['CONSOL Energy Center', 'Joe Louis Arena', 'Scotiabank Place',\n",
       "       'Verizon Center', 'HP Pavilion at San Jose', 'STAPLES Center',\n",
       "       'MTS Centre', 'Tampa Bay Times Forum', 'Jobing.com Arena',\n",
       "       'First Niagara Center', 'Rexall Place', 'The Big House',\n",
       "       'Ericsson Globe', 'Lansdowne Park',\n",
       "       'Navy-Marine Corps Memorial Stadium'], dtype=object)"
      ]
     },
     "execution_count": 54,
     "metadata": {},
     "output_type": "execute_result"
    }
   ],
   "source": [
    "test[test.isnull().any(axis=1)].venue.unique()"
   ]
  },
  {
   "cell_type": "code",
   "execution_count": 55,
   "metadata": {},
   "outputs": [],
   "source": [
    "dOtherVenues = {'Arena': ['CONSOL Energy Center', 'Joe Louis Arena', 'Scotiabank Place','Verizon Center',\\\n",
    "                          'HP Pavilion at San Jose', 'STAPLES Center', 'MTS Centre', 'Tampa Bay Times Forum',\\\n",
    "                          'Jobing.com Arena', 'First Niagara Center', 'Rexall Place', 'The Big House', 'Ericsson Globe',\\\n",
    "                          'Lansdowne Park', 'Navy-Marine Corps Memorial Stadium'],\\\n",
    "                'Location': ['Pittsburgh, Pennsylvania', 'Detroit, Michigan', 'Ottawa, Ontario','Washington, D.C.',\\\n",
    "                             'San Jose, California', 'Los Angeles, California','Winnipeg, Manitoba', 'Tampa, Florida',\\\n",
    "                             'Glendale, Arizona', 'Buffalo, New York','Edmonton, Alberta', 'Ann Arbor, MI',\\\n",
    "                             'Stockholm, Sweden','Ottawa, Ontario', 'Annapolis, Maryland']}\n",
    "dfOtherVenues = pd.DataFrame(data=dOtherVenues)"
   ]
  },
  {
   "cell_type": "code",
   "execution_count": 56,
   "metadata": {},
   "outputs": [],
   "source": [
    "venueLocations = pd.concat([venueLocations, dfOtherVenues])"
   ]
  },
  {
   "cell_type": "code",
   "execution_count": 57,
   "metadata": {},
   "outputs": [],
   "source": [
    "dfG = dfG.merge(venueLocations, left_on='venue', right_on='Arena', how='left')"
   ]
  },
  {
   "cell_type": "code",
   "execution_count": 58,
   "metadata": {},
   "outputs": [],
   "source": [
    "dfG.drop('Arena', axis=1, inplace=True)"
   ]
  },
  {
   "cell_type": "code",
   "execution_count": 59,
   "metadata": {},
   "outputs": [],
   "source": [
    "dfG.rename(columns={'Location':'venueLocation'}, inplace=True)"
   ]
  },
  {
   "cell_type": "code",
   "execution_count": 60,
   "metadata": {},
   "outputs": [
    {
     "data": {
      "text/plain": [
       "game_id          0\n",
       "type             0\n",
       "date_time        0\n",
       "venue            0\n",
       "venueLocation    0\n",
       "dtype: int64"
      ]
     },
     "execution_count": 60,
     "metadata": {},
     "output_type": "execute_result"
    }
   ],
   "source": [
    "dfG.isna().sum()"
   ]
  },
  {
   "cell_type": "markdown",
   "metadata": {},
   "source": [
    "**dfG is now cleaned and ready**"
   ]
  },
  {
   "cell_type": "markdown",
   "metadata": {},
   "source": [
    "**dfGTS will hold the information in game_teams_stats.csv, and will be cleaned for merging below**"
   ]
  },
  {
   "cell_type": "code",
   "execution_count": 61,
   "metadata": {},
   "outputs": [],
   "source": [
    "dfGTS = pd.read_csv('game_teams_stats.csv')"
   ]
  },
  {
   "cell_type": "code",
   "execution_count": 62,
   "metadata": {
    "scrolled": true
   },
   "outputs": [
    {
     "data": {
      "text/plain": [
       "['game_id',\n",
       " 'team_id',\n",
       " 'HoA',\n",
       " 'won',\n",
       " 'settled_in',\n",
       " 'head_coach',\n",
       " 'goals',\n",
       " 'shots',\n",
       " 'hits',\n",
       " 'pim',\n",
       " 'powerPlayOpportunities',\n",
       " 'powerPlayGoals',\n",
       " 'faceOffWinPercentage',\n",
       " 'giveaways',\n",
       " 'takeaways']"
      ]
     },
     "execution_count": 62,
     "metadata": {},
     "output_type": "execute_result"
    }
   ],
   "source": [
    "dfGTS.columns.tolist()"
   ]
  },
  {
   "cell_type": "code",
   "execution_count": 63,
   "metadata": {},
   "outputs": [],
   "source": [
    "dfGTS.drop(['head_coach', 'goals', 'shots', 'hits', 'pim',\\\n",
    "           'powerPlayOpportunities', 'powerPlayGoals', 'faceOffWinPercentage',\\\n",
    "          'giveaways', 'takeaways'], axis=1, inplace=True)"
   ]
  },
  {
   "cell_type": "code",
   "execution_count": 64,
   "metadata": {},
   "outputs": [
    {
     "data": {
      "text/html": [
       "<div>\n",
       "<style scoped>\n",
       "    .dataframe tbody tr th:only-of-type {\n",
       "        vertical-align: middle;\n",
       "    }\n",
       "\n",
       "    .dataframe tbody tr th {\n",
       "        vertical-align: top;\n",
       "    }\n",
       "\n",
       "    .dataframe thead th {\n",
       "        text-align: right;\n",
       "    }\n",
       "</style>\n",
       "<table border=\"1\" class=\"dataframe\">\n",
       "  <thead>\n",
       "    <tr style=\"text-align: right;\">\n",
       "      <th></th>\n",
       "      <th>game_id</th>\n",
       "      <th>team_id</th>\n",
       "      <th>HoA</th>\n",
       "      <th>won</th>\n",
       "      <th>settled_in</th>\n",
       "    </tr>\n",
       "  </thead>\n",
       "  <tbody>\n",
       "    <tr>\n",
       "      <th>0</th>\n",
       "      <td>2012030221</td>\n",
       "      <td>3</td>\n",
       "      <td>away</td>\n",
       "      <td>False</td>\n",
       "      <td>OT</td>\n",
       "    </tr>\n",
       "    <tr>\n",
       "      <th>1</th>\n",
       "      <td>2012030221</td>\n",
       "      <td>6</td>\n",
       "      <td>home</td>\n",
       "      <td>True</td>\n",
       "      <td>OT</td>\n",
       "    </tr>\n",
       "    <tr>\n",
       "      <th>2</th>\n",
       "      <td>2012030222</td>\n",
       "      <td>3</td>\n",
       "      <td>away</td>\n",
       "      <td>False</td>\n",
       "      <td>REG</td>\n",
       "    </tr>\n",
       "    <tr>\n",
       "      <th>3</th>\n",
       "      <td>2012030222</td>\n",
       "      <td>6</td>\n",
       "      <td>home</td>\n",
       "      <td>True</td>\n",
       "      <td>REG</td>\n",
       "    </tr>\n",
       "    <tr>\n",
       "      <th>4</th>\n",
       "      <td>2012030223</td>\n",
       "      <td>6</td>\n",
       "      <td>away</td>\n",
       "      <td>True</td>\n",
       "      <td>REG</td>\n",
       "    </tr>\n",
       "  </tbody>\n",
       "</table>\n",
       "</div>"
      ],
      "text/plain": [
       "      game_id  team_id   HoA    won settled_in\n",
       "0  2012030221        3  away  False         OT\n",
       "1  2012030221        6  home   True         OT\n",
       "2  2012030222        3  away  False        REG\n",
       "3  2012030222        6  home   True        REG\n",
       "4  2012030223        6  away   True        REG"
      ]
     },
     "execution_count": 64,
     "metadata": {},
     "output_type": "execute_result"
    }
   ],
   "source": [
    "dfGTS.head()"
   ]
  },
  {
   "cell_type": "code",
   "execution_count": 65,
   "metadata": {},
   "outputs": [
    {
     "data": {
      "text/plain": [
       "14882"
      ]
     },
     "execution_count": 65,
     "metadata": {},
     "output_type": "execute_result"
    }
   ],
   "source": [
    "len(dfGTS)"
   ]
  },
  {
   "cell_type": "code",
   "execution_count": 66,
   "metadata": {},
   "outputs": [
    {
     "data": {
      "text/plain": [
       "game_id       False\n",
       "team_id       False\n",
       "HoA           False\n",
       "won           False\n",
       "settled_in    False\n",
       "dtype: bool"
      ]
     },
     "execution_count": 66,
     "metadata": {},
     "output_type": "execute_result"
    }
   ],
   "source": [
    "dfGTS.isna().any()"
   ]
  },
  {
   "cell_type": "code",
   "execution_count": 67,
   "metadata": {},
   "outputs": [
    {
     "data": {
      "text/plain": [
       "2"
      ]
     },
     "execution_count": 67,
     "metadata": {},
     "output_type": "execute_result"
    }
   ],
   "source": [
    "dfGTS.HoA.nunique()"
   ]
  },
  {
   "cell_type": "code",
   "execution_count": 68,
   "metadata": {
    "scrolled": true
   },
   "outputs": [
    {
     "data": {
      "text/plain": [
       "3"
      ]
     },
     "execution_count": 68,
     "metadata": {},
     "output_type": "execute_result"
    }
   ],
   "source": [
    "dfGTS.settled_in.nunique()"
   ]
  },
  {
   "cell_type": "markdown",
   "metadata": {},
   "source": [
    "**dfGT is now cleaned and ready**"
   ]
  },
  {
   "cell_type": "markdown",
   "metadata": {},
   "source": [
    "**dfGSS will hold the information in game_skater_stats.csv, and will be prepared for merging below**"
   ]
  },
  {
   "cell_type": "code",
   "execution_count": 69,
   "metadata": {},
   "outputs": [],
   "source": [
    "dfGSS = pd.read_csv('game_skater_stats.csv')"
   ]
  },
  {
   "cell_type": "code",
   "execution_count": 70,
   "metadata": {},
   "outputs": [
    {
     "data": {
      "text/plain": [
       "['game_id',\n",
       " 'player_id',\n",
       " 'team_id',\n",
       " 'timeOnIce',\n",
       " 'assists',\n",
       " 'goals',\n",
       " 'shots',\n",
       " 'hits',\n",
       " 'powerPlayGoals',\n",
       " 'powerPlayAssists',\n",
       " 'penaltyMinutes',\n",
       " 'faceOffWins',\n",
       " 'faceoffTaken',\n",
       " 'takeaways',\n",
       " 'giveaways',\n",
       " 'shortHandedGoals',\n",
       " 'shortHandedAssists',\n",
       " 'blocked',\n",
       " 'plusMinus',\n",
       " 'evenTimeOnIce',\n",
       " 'shortHandedTimeOnIce',\n",
       " 'powerPlayTimeOnIce']"
      ]
     },
     "execution_count": 70,
     "metadata": {},
     "output_type": "execute_result"
    }
   ],
   "source": [
    "dfGSS.columns.tolist()"
   ]
  },
  {
   "cell_type": "code",
   "execution_count": 71,
   "metadata": {},
   "outputs": [
    {
     "data": {
      "text/html": [
       "<div>\n",
       "<style scoped>\n",
       "    .dataframe tbody tr th:only-of-type {\n",
       "        vertical-align: middle;\n",
       "    }\n",
       "\n",
       "    .dataframe tbody tr th {\n",
       "        vertical-align: top;\n",
       "    }\n",
       "\n",
       "    .dataframe thead th {\n",
       "        text-align: right;\n",
       "    }\n",
       "</style>\n",
       "<table border=\"1\" class=\"dataframe\">\n",
       "  <thead>\n",
       "    <tr style=\"text-align: right;\">\n",
       "      <th></th>\n",
       "      <th>game_id</th>\n",
       "      <th>player_id</th>\n",
       "      <th>team_id</th>\n",
       "      <th>timeOnIce</th>\n",
       "      <th>assists</th>\n",
       "      <th>goals</th>\n",
       "      <th>shots</th>\n",
       "      <th>hits</th>\n",
       "      <th>powerPlayGoals</th>\n",
       "      <th>powerPlayAssists</th>\n",
       "      <th>penaltyMinutes</th>\n",
       "      <th>faceOffWins</th>\n",
       "      <th>faceoffTaken</th>\n",
       "      <th>takeaways</th>\n",
       "      <th>giveaways</th>\n",
       "      <th>shortHandedGoals</th>\n",
       "      <th>shortHandedAssists</th>\n",
       "      <th>blocked</th>\n",
       "      <th>plusMinus</th>\n",
       "      <th>evenTimeOnIce</th>\n",
       "      <th>shortHandedTimeOnIce</th>\n",
       "      <th>powerPlayTimeOnIce</th>\n",
       "    </tr>\n",
       "  </thead>\n",
       "  <tbody>\n",
       "    <tr>\n",
       "      <th>0</th>\n",
       "      <td>2012030221</td>\n",
       "      <td>8471958</td>\n",
       "      <td>3</td>\n",
       "      <td>1925</td>\n",
       "      <td>0</td>\n",
       "      <td>0</td>\n",
       "      <td>0</td>\n",
       "      <td>3</td>\n",
       "      <td>0</td>\n",
       "      <td>0</td>\n",
       "      <td>0</td>\n",
       "      <td>0</td>\n",
       "      <td>0</td>\n",
       "      <td>1</td>\n",
       "      <td>0</td>\n",
       "      <td>0</td>\n",
       "      <td>0</td>\n",
       "      <td>5</td>\n",
       "      <td>0</td>\n",
       "      <td>1406</td>\n",
       "      <td>342</td>\n",
       "      <td>177</td>\n",
       "    </tr>\n",
       "    <tr>\n",
       "      <th>1</th>\n",
       "      <td>2012030221</td>\n",
       "      <td>8471339</td>\n",
       "      <td>3</td>\n",
       "      <td>1597</td>\n",
       "      <td>1</td>\n",
       "      <td>0</td>\n",
       "      <td>2</td>\n",
       "      <td>3</td>\n",
       "      <td>0</td>\n",
       "      <td>0</td>\n",
       "      <td>0</td>\n",
       "      <td>0</td>\n",
       "      <td>0</td>\n",
       "      <td>1</td>\n",
       "      <td>3</td>\n",
       "      <td>0</td>\n",
       "      <td>0</td>\n",
       "      <td>2</td>\n",
       "      <td>1</td>\n",
       "      <td>1099</td>\n",
       "      <td>315</td>\n",
       "      <td>183</td>\n",
       "    </tr>\n",
       "    <tr>\n",
       "      <th>2</th>\n",
       "      <td>2012030221</td>\n",
       "      <td>8471873</td>\n",
       "      <td>3</td>\n",
       "      <td>1695</td>\n",
       "      <td>0</td>\n",
       "      <td>0</td>\n",
       "      <td>1</td>\n",
       "      <td>2</td>\n",
       "      <td>0</td>\n",
       "      <td>0</td>\n",
       "      <td>0</td>\n",
       "      <td>0</td>\n",
       "      <td>0</td>\n",
       "      <td>0</td>\n",
       "      <td>0</td>\n",
       "      <td>0</td>\n",
       "      <td>0</td>\n",
       "      <td>2</td>\n",
       "      <td>0</td>\n",
       "      <td>1488</td>\n",
       "      <td>99</td>\n",
       "      <td>108</td>\n",
       "    </tr>\n",
       "    <tr>\n",
       "      <th>3</th>\n",
       "      <td>2012030221</td>\n",
       "      <td>8473432</td>\n",
       "      <td>3</td>\n",
       "      <td>957</td>\n",
       "      <td>0</td>\n",
       "      <td>0</td>\n",
       "      <td>3</td>\n",
       "      <td>5</td>\n",
       "      <td>0</td>\n",
       "      <td>0</td>\n",
       "      <td>2</td>\n",
       "      <td>0</td>\n",
       "      <td>0</td>\n",
       "      <td>0</td>\n",
       "      <td>1</td>\n",
       "      <td>0</td>\n",
       "      <td>0</td>\n",
       "      <td>0</td>\n",
       "      <td>0</td>\n",
       "      <td>957</td>\n",
       "      <td>0</td>\n",
       "      <td>0</td>\n",
       "    </tr>\n",
       "    <tr>\n",
       "      <th>4</th>\n",
       "      <td>2012030221</td>\n",
       "      <td>8470192</td>\n",
       "      <td>3</td>\n",
       "      <td>859</td>\n",
       "      <td>0</td>\n",
       "      <td>0</td>\n",
       "      <td>1</td>\n",
       "      <td>0</td>\n",
       "      <td>0</td>\n",
       "      <td>0</td>\n",
       "      <td>2</td>\n",
       "      <td>0</td>\n",
       "      <td>0</td>\n",
       "      <td>1</td>\n",
       "      <td>0</td>\n",
       "      <td>0</td>\n",
       "      <td>0</td>\n",
       "      <td>2</td>\n",
       "      <td>0</td>\n",
       "      <td>859</td>\n",
       "      <td>0</td>\n",
       "      <td>0</td>\n",
       "    </tr>\n",
       "  </tbody>\n",
       "</table>\n",
       "</div>"
      ],
      "text/plain": [
       "      game_id  player_id  team_id  timeOnIce  assists  goals  shots  hits  powerPlayGoals  powerPlayAssists  penaltyMinutes  faceOffWins  faceoffTaken  takeaways  giveaways  shortHandedGoals  shortHandedAssists  blocked  plusMinus  evenTimeOnIce  shortHandedTimeOnIce  powerPlayTimeOnIce\n",
       "0  2012030221    8471958        3       1925        0      0      0     3               0                 0               0            0             0          1          0                 0                   0        5          0           1406                   342                 177\n",
       "1  2012030221    8471339        3       1597        1      0      2     3               0                 0               0            0             0          1          3                 0                   0        2          1           1099                   315                 183\n",
       "2  2012030221    8471873        3       1695        0      0      1     2               0                 0               0            0             0          0          0                 0                   0        2          0           1488                    99                 108\n",
       "3  2012030221    8473432        3        957        0      0      3     5               0                 0               2            0             0          0          1                 0                   0        0          0            957                     0                   0\n",
       "4  2012030221    8470192        3        859        0      0      1     0               0                 0               2            0             0          1          0                 0                   0        2          0            859                     0                   0"
      ]
     },
     "execution_count": 71,
     "metadata": {},
     "output_type": "execute_result"
    }
   ],
   "source": [
    "dfGSS.head()"
   ]
  },
  {
   "cell_type": "code",
   "execution_count": 72,
   "metadata": {},
   "outputs": [
    {
     "data": {
      "text/plain": [
       "267854"
      ]
     },
     "execution_count": 72,
     "metadata": {},
     "output_type": "execute_result"
    }
   ],
   "source": [
    "len(dfGSS)"
   ]
  },
  {
   "cell_type": "markdown",
   "metadata": {},
   "source": [
    "**dfGSS is now ready for merging**"
   ]
  },
  {
   "cell_type": "markdown",
   "metadata": {},
   "source": [
    "**dfNHL will hold the combined information of all previous dataframes**"
   ]
  },
  {
   "cell_type": "code",
   "execution_count": 73,
   "metadata": {},
   "outputs": [],
   "source": [
    "dfNHL = dfGSS.merge(dfP, on='player_id')"
   ]
  },
  {
   "cell_type": "code",
   "execution_count": 74,
   "metadata": {},
   "outputs": [],
   "source": [
    "dfNHL = dfNHL.merge(dfT, on='team_id')"
   ]
  },
  {
   "cell_type": "code",
   "execution_count": 75,
   "metadata": {},
   "outputs": [],
   "source": [
    "dfNHL = dfNHL.merge(dfG, on='game_id')"
   ]
  },
  {
   "cell_type": "code",
   "execution_count": 76,
   "metadata": {},
   "outputs": [],
   "source": [
    "dfNHL = dfNHL.merge(dfGTS, on=['game_id', 'team_id'])"
   ]
  },
  {
   "cell_type": "code",
   "execution_count": 77,
   "metadata": {
    "scrolled": true
   },
   "outputs": [
    {
     "data": {
      "text/html": [
       "<div>\n",
       "<style scoped>\n",
       "    .dataframe tbody tr th:only-of-type {\n",
       "        vertical-align: middle;\n",
       "    }\n",
       "\n",
       "    .dataframe tbody tr th {\n",
       "        vertical-align: top;\n",
       "    }\n",
       "\n",
       "    .dataframe thead th {\n",
       "        text-align: right;\n",
       "    }\n",
       "</style>\n",
       "<table border=\"1\" class=\"dataframe\">\n",
       "  <thead>\n",
       "    <tr style=\"text-align: right;\">\n",
       "      <th></th>\n",
       "      <th>game_id</th>\n",
       "      <th>player_id</th>\n",
       "      <th>team_id</th>\n",
       "      <th>timeOnIce</th>\n",
       "      <th>assists</th>\n",
       "      <th>goals</th>\n",
       "      <th>shots</th>\n",
       "      <th>hits</th>\n",
       "      <th>powerPlayGoals</th>\n",
       "      <th>powerPlayAssists</th>\n",
       "      <th>penaltyMinutes</th>\n",
       "      <th>faceOffWins</th>\n",
       "      <th>faceoffTaken</th>\n",
       "      <th>takeaways</th>\n",
       "      <th>giveaways</th>\n",
       "      <th>shortHandedGoals</th>\n",
       "      <th>shortHandedAssists</th>\n",
       "      <th>blocked</th>\n",
       "      <th>plusMinus</th>\n",
       "      <th>evenTimeOnIce</th>\n",
       "      <th>shortHandedTimeOnIce</th>\n",
       "      <th>powerPlayTimeOnIce</th>\n",
       "      <th>nationality</th>\n",
       "      <th>primaryPosition</th>\n",
       "      <th>age</th>\n",
       "      <th>Name</th>\n",
       "      <th>teamName</th>\n",
       "      <th>type</th>\n",
       "      <th>date_time</th>\n",
       "      <th>venue</th>\n",
       "      <th>venueLocation</th>\n",
       "      <th>HoA</th>\n",
       "      <th>won</th>\n",
       "      <th>settled_in</th>\n",
       "    </tr>\n",
       "  </thead>\n",
       "  <tbody>\n",
       "    <tr>\n",
       "      <th>0</th>\n",
       "      <td>2012030221</td>\n",
       "      <td>8471958</td>\n",
       "      <td>3</td>\n",
       "      <td>1925</td>\n",
       "      <td>0</td>\n",
       "      <td>0</td>\n",
       "      <td>0</td>\n",
       "      <td>3</td>\n",
       "      <td>0</td>\n",
       "      <td>0</td>\n",
       "      <td>0</td>\n",
       "      <td>0</td>\n",
       "      <td>0</td>\n",
       "      <td>1</td>\n",
       "      <td>0</td>\n",
       "      <td>0</td>\n",
       "      <td>0</td>\n",
       "      <td>5</td>\n",
       "      <td>0</td>\n",
       "      <td>1406</td>\n",
       "      <td>342</td>\n",
       "      <td>177</td>\n",
       "      <td>CAN</td>\n",
       "      <td>D</td>\n",
       "      <td>35</td>\n",
       "      <td>Dan_Girardi</td>\n",
       "      <td>NY Rangers</td>\n",
       "      <td>P</td>\n",
       "      <td>2013-05-16T23:30:00Z</td>\n",
       "      <td>TD Garden</td>\n",
       "      <td>Boston, Massachusetts</td>\n",
       "      <td>away</td>\n",
       "      <td>False</td>\n",
       "      <td>OT</td>\n",
       "    </tr>\n",
       "    <tr>\n",
       "      <th>1</th>\n",
       "      <td>2012030221</td>\n",
       "      <td>8471339</td>\n",
       "      <td>3</td>\n",
       "      <td>1597</td>\n",
       "      <td>1</td>\n",
       "      <td>0</td>\n",
       "      <td>2</td>\n",
       "      <td>3</td>\n",
       "      <td>0</td>\n",
       "      <td>0</td>\n",
       "      <td>0</td>\n",
       "      <td>0</td>\n",
       "      <td>0</td>\n",
       "      <td>1</td>\n",
       "      <td>3</td>\n",
       "      <td>0</td>\n",
       "      <td>0</td>\n",
       "      <td>2</td>\n",
       "      <td>1</td>\n",
       "      <td>1099</td>\n",
       "      <td>315</td>\n",
       "      <td>183</td>\n",
       "      <td>USA</td>\n",
       "      <td>RW</td>\n",
       "      <td>34</td>\n",
       "      <td>Ryan_Callahan</td>\n",
       "      <td>NY Rangers</td>\n",
       "      <td>P</td>\n",
       "      <td>2013-05-16T23:30:00Z</td>\n",
       "      <td>TD Garden</td>\n",
       "      <td>Boston, Massachusetts</td>\n",
       "      <td>away</td>\n",
       "      <td>False</td>\n",
       "      <td>OT</td>\n",
       "    </tr>\n",
       "    <tr>\n",
       "      <th>2</th>\n",
       "      <td>2012030221</td>\n",
       "      <td>8471873</td>\n",
       "      <td>3</td>\n",
       "      <td>1695</td>\n",
       "      <td>0</td>\n",
       "      <td>0</td>\n",
       "      <td>1</td>\n",
       "      <td>2</td>\n",
       "      <td>0</td>\n",
       "      <td>0</td>\n",
       "      <td>0</td>\n",
       "      <td>0</td>\n",
       "      <td>0</td>\n",
       "      <td>0</td>\n",
       "      <td>0</td>\n",
       "      <td>0</td>\n",
       "      <td>0</td>\n",
       "      <td>2</td>\n",
       "      <td>0</td>\n",
       "      <td>1488</td>\n",
       "      <td>99</td>\n",
       "      <td>108</td>\n",
       "      <td>SWE</td>\n",
       "      <td>D</td>\n",
       "      <td>33</td>\n",
       "      <td>Anton_Stralman</td>\n",
       "      <td>NY Rangers</td>\n",
       "      <td>P</td>\n",
       "      <td>2013-05-16T23:30:00Z</td>\n",
       "      <td>TD Garden</td>\n",
       "      <td>Boston, Massachusetts</td>\n",
       "      <td>away</td>\n",
       "      <td>False</td>\n",
       "      <td>OT</td>\n",
       "    </tr>\n",
       "    <tr>\n",
       "      <th>3</th>\n",
       "      <td>2012030221</td>\n",
       "      <td>8473432</td>\n",
       "      <td>3</td>\n",
       "      <td>957</td>\n",
       "      <td>0</td>\n",
       "      <td>0</td>\n",
       "      <td>3</td>\n",
       "      <td>5</td>\n",
       "      <td>0</td>\n",
       "      <td>0</td>\n",
       "      <td>2</td>\n",
       "      <td>0</td>\n",
       "      <td>0</td>\n",
       "      <td>0</td>\n",
       "      <td>1</td>\n",
       "      <td>0</td>\n",
       "      <td>0</td>\n",
       "      <td>0</td>\n",
       "      <td>0</td>\n",
       "      <td>957</td>\n",
       "      <td>0</td>\n",
       "      <td>0</td>\n",
       "      <td>CAN</td>\n",
       "      <td>RW</td>\n",
       "      <td>33</td>\n",
       "      <td>Derek_Dorsett</td>\n",
       "      <td>NY Rangers</td>\n",
       "      <td>P</td>\n",
       "      <td>2013-05-16T23:30:00Z</td>\n",
       "      <td>TD Garden</td>\n",
       "      <td>Boston, Massachusetts</td>\n",
       "      <td>away</td>\n",
       "      <td>False</td>\n",
       "      <td>OT</td>\n",
       "    </tr>\n",
       "    <tr>\n",
       "      <th>4</th>\n",
       "      <td>2012030221</td>\n",
       "      <td>8470192</td>\n",
       "      <td>3</td>\n",
       "      <td>859</td>\n",
       "      <td>0</td>\n",
       "      <td>0</td>\n",
       "      <td>1</td>\n",
       "      <td>0</td>\n",
       "      <td>0</td>\n",
       "      <td>0</td>\n",
       "      <td>2</td>\n",
       "      <td>0</td>\n",
       "      <td>0</td>\n",
       "      <td>1</td>\n",
       "      <td>0</td>\n",
       "      <td>0</td>\n",
       "      <td>0</td>\n",
       "      <td>2</td>\n",
       "      <td>0</td>\n",
       "      <td>859</td>\n",
       "      <td>0</td>\n",
       "      <td>0</td>\n",
       "      <td>CAN</td>\n",
       "      <td>D</td>\n",
       "      <td>36</td>\n",
       "      <td>Steve_Eminger</td>\n",
       "      <td>NY Rangers</td>\n",
       "      <td>P</td>\n",
       "      <td>2013-05-16T23:30:00Z</td>\n",
       "      <td>TD Garden</td>\n",
       "      <td>Boston, Massachusetts</td>\n",
       "      <td>away</td>\n",
       "      <td>False</td>\n",
       "      <td>OT</td>\n",
       "    </tr>\n",
       "  </tbody>\n",
       "</table>\n",
       "</div>"
      ],
      "text/plain": [
       "      game_id  player_id  team_id  timeOnIce  assists  goals  shots  hits  powerPlayGoals  powerPlayAssists  penaltyMinutes  faceOffWins  faceoffTaken  takeaways  giveaways  shortHandedGoals  shortHandedAssists  blocked  plusMinus  evenTimeOnIce  shortHandedTimeOnIce  powerPlayTimeOnIce nationality primaryPosition  age            Name    teamName type             date_time      venue          venueLocation   HoA    won settled_in\n",
       "0  2012030221    8471958        3       1925        0      0      0     3               0                 0               0            0             0          1          0                 0                   0        5          0           1406                   342                 177         CAN               D   35     Dan_Girardi  NY Rangers    P  2013-05-16T23:30:00Z  TD Garden  Boston, Massachusetts  away  False         OT\n",
       "1  2012030221    8471339        3       1597        1      0      2     3               0                 0               0            0             0          1          3                 0                   0        2          1           1099                   315                 183         USA              RW   34   Ryan_Callahan  NY Rangers    P  2013-05-16T23:30:00Z  TD Garden  Boston, Massachusetts  away  False         OT\n",
       "2  2012030221    8471873        3       1695        0      0      1     2               0                 0               0            0             0          0          0                 0                   0        2          0           1488                    99                 108         SWE               D   33  Anton_Stralman  NY Rangers    P  2013-05-16T23:30:00Z  TD Garden  Boston, Massachusetts  away  False         OT\n",
       "3  2012030221    8473432        3        957        0      0      3     5               0                 0               2            0             0          0          1                 0                   0        0          0            957                     0                   0         CAN              RW   33   Derek_Dorsett  NY Rangers    P  2013-05-16T23:30:00Z  TD Garden  Boston, Massachusetts  away  False         OT\n",
       "4  2012030221    8470192        3        859        0      0      1     0               0                 0               2            0             0          1          0                 0                   0        2          0            859                     0                   0         CAN               D   36   Steve_Eminger  NY Rangers    P  2013-05-16T23:30:00Z  TD Garden  Boston, Massachusetts  away  False         OT"
      ]
     },
     "execution_count": 77,
     "metadata": {},
     "output_type": "execute_result"
    }
   ],
   "source": [
    "dfNHL.head()"
   ]
  },
  {
   "cell_type": "markdown",
   "metadata": {},
   "source": [
    "**dfNHL is now completely merged**"
   ]
  },
  {
   "cell_type": "markdown",
   "metadata": {},
   "source": [
    "**df will now be prepared to conduct machine learning on dfNHL**"
   ]
  },
  {
   "cell_type": "code",
   "execution_count": 78,
   "metadata": {},
   "outputs": [],
   "source": [
    "df = pd.DataFrame.copy(dfNHL)"
   ]
  },
  {
   "cell_type": "code",
   "execution_count": 79,
   "metadata": {},
   "outputs": [],
   "source": [
    "df = pd.get_dummies(df, columns=['nationality', 'primaryPosition', 'settled_in'])"
   ]
  },
  {
   "cell_type": "code",
   "execution_count": 80,
   "metadata": {},
   "outputs": [],
   "source": [
    "# df = pd.get_dummies(df, columns=['teamName', 'venue'])"
   ]
  },
  {
   "cell_type": "code",
   "execution_count": 81,
   "metadata": {},
   "outputs": [],
   "source": [
    "df['HoA'] = df.HoA.apply(lambda x: 1 if x == 'home' else 0)\n",
    "# home?"
   ]
  },
  {
   "cell_type": "code",
   "execution_count": 82,
   "metadata": {},
   "outputs": [],
   "source": [
    "df['type'] = df.type.apply(lambda x: 1 if x == 'R' else 0)\n",
    "# type?"
   ]
  },
  {
   "cell_type": "code",
   "execution_count": 83,
   "metadata": {},
   "outputs": [],
   "source": [
    "df['won'] = df.won.apply(lambda x: 1 if x == True else 0)\n",
    "# won?"
   ]
  },
  {
   "cell_type": "code",
   "execution_count": 84,
   "metadata": {},
   "outputs": [],
   "source": [
    "df.drop(['venue', 'teamName'], axis=1, inplace=True)"
   ]
  },
  {
   "cell_type": "code",
   "execution_count": 85,
   "metadata": {},
   "outputs": [],
   "source": [
    "df.rename(columns={'HoA':'home', 'type':'isRegSeason'}, inplace=True)"
   ]
  },
  {
   "cell_type": "code",
   "execution_count": 86,
   "metadata": {},
   "outputs": [],
   "source": [
    "df['points'] = df.assists + df.goals"
   ]
  },
  {
   "cell_type": "code",
   "execution_count": 87,
   "metadata": {
    "scrolled": true
   },
   "outputs": [
    {
     "data": {
      "text/html": [
       "<div>\n",
       "<style scoped>\n",
       "    .dataframe tbody tr th:only-of-type {\n",
       "        vertical-align: middle;\n",
       "    }\n",
       "\n",
       "    .dataframe tbody tr th {\n",
       "        vertical-align: top;\n",
       "    }\n",
       "\n",
       "    .dataframe thead th {\n",
       "        text-align: right;\n",
       "    }\n",
       "</style>\n",
       "<table border=\"1\" class=\"dataframe\">\n",
       "  <thead>\n",
       "    <tr style=\"text-align: right;\">\n",
       "      <th></th>\n",
       "      <th>game_id</th>\n",
       "      <th>player_id</th>\n",
       "      <th>team_id</th>\n",
       "      <th>timeOnIce</th>\n",
       "      <th>assists</th>\n",
       "      <th>goals</th>\n",
       "      <th>shots</th>\n",
       "      <th>hits</th>\n",
       "      <th>powerPlayGoals</th>\n",
       "      <th>powerPlayAssists</th>\n",
       "      <th>penaltyMinutes</th>\n",
       "      <th>faceOffWins</th>\n",
       "      <th>faceoffTaken</th>\n",
       "      <th>takeaways</th>\n",
       "      <th>giveaways</th>\n",
       "      <th>shortHandedGoals</th>\n",
       "      <th>shortHandedAssists</th>\n",
       "      <th>blocked</th>\n",
       "      <th>plusMinus</th>\n",
       "      <th>evenTimeOnIce</th>\n",
       "      <th>shortHandedTimeOnIce</th>\n",
       "      <th>powerPlayTimeOnIce</th>\n",
       "      <th>age</th>\n",
       "      <th>Name</th>\n",
       "      <th>isRegSeason</th>\n",
       "      <th>date_time</th>\n",
       "      <th>venueLocation</th>\n",
       "      <th>home</th>\n",
       "      <th>won</th>\n",
       "      <th>nationality_AUS</th>\n",
       "      <th>nationality_AUT</th>\n",
       "      <th>nationality_BLR</th>\n",
       "      <th>nationality_CAN</th>\n",
       "      <th>nationality_CHE</th>\n",
       "      <th>nationality_CZE</th>\n",
       "      <th>nationality_DEU</th>\n",
       "      <th>nationality_DNK</th>\n",
       "      <th>nationality_FIN</th>\n",
       "      <th>nationality_FRA</th>\n",
       "      <th>nationality_GBR</th>\n",
       "      <th>nationality_HRV</th>\n",
       "      <th>nationality_KAZ</th>\n",
       "      <th>nationality_LTU</th>\n",
       "      <th>nationality_LVA</th>\n",
       "      <th>nationality_NGA</th>\n",
       "      <th>nationality_NLD</th>\n",
       "      <th>nationality_NOR</th>\n",
       "      <th>nationality_RUS</th>\n",
       "      <th>nationality_SVK</th>\n",
       "      <th>nationality_SVN</th>\n",
       "      <th>nationality_SWE</th>\n",
       "      <th>nationality_UKR</th>\n",
       "      <th>nationality_USA</th>\n",
       "      <th>primaryPosition_C</th>\n",
       "      <th>primaryPosition_D</th>\n",
       "      <th>primaryPosition_LW</th>\n",
       "      <th>primaryPosition_RW</th>\n",
       "      <th>settled_in_OT</th>\n",
       "      <th>settled_in_REG</th>\n",
       "      <th>settled_in_SO</th>\n",
       "      <th>points</th>\n",
       "    </tr>\n",
       "  </thead>\n",
       "  <tbody>\n",
       "    <tr>\n",
       "      <th>0</th>\n",
       "      <td>2012030221</td>\n",
       "      <td>8471958</td>\n",
       "      <td>3</td>\n",
       "      <td>1925</td>\n",
       "      <td>0</td>\n",
       "      <td>0</td>\n",
       "      <td>0</td>\n",
       "      <td>3</td>\n",
       "      <td>0</td>\n",
       "      <td>0</td>\n",
       "      <td>0</td>\n",
       "      <td>0</td>\n",
       "      <td>0</td>\n",
       "      <td>1</td>\n",
       "      <td>0</td>\n",
       "      <td>0</td>\n",
       "      <td>0</td>\n",
       "      <td>5</td>\n",
       "      <td>0</td>\n",
       "      <td>1406</td>\n",
       "      <td>342</td>\n",
       "      <td>177</td>\n",
       "      <td>35</td>\n",
       "      <td>Dan_Girardi</td>\n",
       "      <td>0</td>\n",
       "      <td>2013-05-16T23:30:00Z</td>\n",
       "      <td>Boston, Massachusetts</td>\n",
       "      <td>0</td>\n",
       "      <td>0</td>\n",
       "      <td>0</td>\n",
       "      <td>0</td>\n",
       "      <td>0</td>\n",
       "      <td>1</td>\n",
       "      <td>0</td>\n",
       "      <td>0</td>\n",
       "      <td>0</td>\n",
       "      <td>0</td>\n",
       "      <td>0</td>\n",
       "      <td>0</td>\n",
       "      <td>0</td>\n",
       "      <td>0</td>\n",
       "      <td>0</td>\n",
       "      <td>0</td>\n",
       "      <td>0</td>\n",
       "      <td>0</td>\n",
       "      <td>0</td>\n",
       "      <td>0</td>\n",
       "      <td>0</td>\n",
       "      <td>0</td>\n",
       "      <td>0</td>\n",
       "      <td>0</td>\n",
       "      <td>0</td>\n",
       "      <td>0</td>\n",
       "      <td>0</td>\n",
       "      <td>1</td>\n",
       "      <td>0</td>\n",
       "      <td>0</td>\n",
       "      <td>1</td>\n",
       "      <td>0</td>\n",
       "      <td>0</td>\n",
       "      <td>0</td>\n",
       "    </tr>\n",
       "    <tr>\n",
       "      <th>1</th>\n",
       "      <td>2012030221</td>\n",
       "      <td>8471339</td>\n",
       "      <td>3</td>\n",
       "      <td>1597</td>\n",
       "      <td>1</td>\n",
       "      <td>0</td>\n",
       "      <td>2</td>\n",
       "      <td>3</td>\n",
       "      <td>0</td>\n",
       "      <td>0</td>\n",
       "      <td>0</td>\n",
       "      <td>0</td>\n",
       "      <td>0</td>\n",
       "      <td>1</td>\n",
       "      <td>3</td>\n",
       "      <td>0</td>\n",
       "      <td>0</td>\n",
       "      <td>2</td>\n",
       "      <td>1</td>\n",
       "      <td>1099</td>\n",
       "      <td>315</td>\n",
       "      <td>183</td>\n",
       "      <td>34</td>\n",
       "      <td>Ryan_Callahan</td>\n",
       "      <td>0</td>\n",
       "      <td>2013-05-16T23:30:00Z</td>\n",
       "      <td>Boston, Massachusetts</td>\n",
       "      <td>0</td>\n",
       "      <td>0</td>\n",
       "      <td>0</td>\n",
       "      <td>0</td>\n",
       "      <td>0</td>\n",
       "      <td>0</td>\n",
       "      <td>0</td>\n",
       "      <td>0</td>\n",
       "      <td>0</td>\n",
       "      <td>0</td>\n",
       "      <td>0</td>\n",
       "      <td>0</td>\n",
       "      <td>0</td>\n",
       "      <td>0</td>\n",
       "      <td>0</td>\n",
       "      <td>0</td>\n",
       "      <td>0</td>\n",
       "      <td>0</td>\n",
       "      <td>0</td>\n",
       "      <td>0</td>\n",
       "      <td>0</td>\n",
       "      <td>0</td>\n",
       "      <td>0</td>\n",
       "      <td>0</td>\n",
       "      <td>0</td>\n",
       "      <td>1</td>\n",
       "      <td>0</td>\n",
       "      <td>0</td>\n",
       "      <td>0</td>\n",
       "      <td>1</td>\n",
       "      <td>1</td>\n",
       "      <td>0</td>\n",
       "      <td>0</td>\n",
       "      <td>1</td>\n",
       "    </tr>\n",
       "    <tr>\n",
       "      <th>2</th>\n",
       "      <td>2012030221</td>\n",
       "      <td>8471873</td>\n",
       "      <td>3</td>\n",
       "      <td>1695</td>\n",
       "      <td>0</td>\n",
       "      <td>0</td>\n",
       "      <td>1</td>\n",
       "      <td>2</td>\n",
       "      <td>0</td>\n",
       "      <td>0</td>\n",
       "      <td>0</td>\n",
       "      <td>0</td>\n",
       "      <td>0</td>\n",
       "      <td>0</td>\n",
       "      <td>0</td>\n",
       "      <td>0</td>\n",
       "      <td>0</td>\n",
       "      <td>2</td>\n",
       "      <td>0</td>\n",
       "      <td>1488</td>\n",
       "      <td>99</td>\n",
       "      <td>108</td>\n",
       "      <td>33</td>\n",
       "      <td>Anton_Stralman</td>\n",
       "      <td>0</td>\n",
       "      <td>2013-05-16T23:30:00Z</td>\n",
       "      <td>Boston, Massachusetts</td>\n",
       "      <td>0</td>\n",
       "      <td>0</td>\n",
       "      <td>0</td>\n",
       "      <td>0</td>\n",
       "      <td>0</td>\n",
       "      <td>0</td>\n",
       "      <td>0</td>\n",
       "      <td>0</td>\n",
       "      <td>0</td>\n",
       "      <td>0</td>\n",
       "      <td>0</td>\n",
       "      <td>0</td>\n",
       "      <td>0</td>\n",
       "      <td>0</td>\n",
       "      <td>0</td>\n",
       "      <td>0</td>\n",
       "      <td>0</td>\n",
       "      <td>0</td>\n",
       "      <td>0</td>\n",
       "      <td>0</td>\n",
       "      <td>0</td>\n",
       "      <td>0</td>\n",
       "      <td>0</td>\n",
       "      <td>1</td>\n",
       "      <td>0</td>\n",
       "      <td>0</td>\n",
       "      <td>0</td>\n",
       "      <td>1</td>\n",
       "      <td>0</td>\n",
       "      <td>0</td>\n",
       "      <td>1</td>\n",
       "      <td>0</td>\n",
       "      <td>0</td>\n",
       "      <td>0</td>\n",
       "    </tr>\n",
       "    <tr>\n",
       "      <th>3</th>\n",
       "      <td>2012030221</td>\n",
       "      <td>8473432</td>\n",
       "      <td>3</td>\n",
       "      <td>957</td>\n",
       "      <td>0</td>\n",
       "      <td>0</td>\n",
       "      <td>3</td>\n",
       "      <td>5</td>\n",
       "      <td>0</td>\n",
       "      <td>0</td>\n",
       "      <td>2</td>\n",
       "      <td>0</td>\n",
       "      <td>0</td>\n",
       "      <td>0</td>\n",
       "      <td>1</td>\n",
       "      <td>0</td>\n",
       "      <td>0</td>\n",
       "      <td>0</td>\n",
       "      <td>0</td>\n",
       "      <td>957</td>\n",
       "      <td>0</td>\n",
       "      <td>0</td>\n",
       "      <td>33</td>\n",
       "      <td>Derek_Dorsett</td>\n",
       "      <td>0</td>\n",
       "      <td>2013-05-16T23:30:00Z</td>\n",
       "      <td>Boston, Massachusetts</td>\n",
       "      <td>0</td>\n",
       "      <td>0</td>\n",
       "      <td>0</td>\n",
       "      <td>0</td>\n",
       "      <td>0</td>\n",
       "      <td>1</td>\n",
       "      <td>0</td>\n",
       "      <td>0</td>\n",
       "      <td>0</td>\n",
       "      <td>0</td>\n",
       "      <td>0</td>\n",
       "      <td>0</td>\n",
       "      <td>0</td>\n",
       "      <td>0</td>\n",
       "      <td>0</td>\n",
       "      <td>0</td>\n",
       "      <td>0</td>\n",
       "      <td>0</td>\n",
       "      <td>0</td>\n",
       "      <td>0</td>\n",
       "      <td>0</td>\n",
       "      <td>0</td>\n",
       "      <td>0</td>\n",
       "      <td>0</td>\n",
       "      <td>0</td>\n",
       "      <td>0</td>\n",
       "      <td>0</td>\n",
       "      <td>0</td>\n",
       "      <td>0</td>\n",
       "      <td>1</td>\n",
       "      <td>1</td>\n",
       "      <td>0</td>\n",
       "      <td>0</td>\n",
       "      <td>0</td>\n",
       "    </tr>\n",
       "    <tr>\n",
       "      <th>4</th>\n",
       "      <td>2012030221</td>\n",
       "      <td>8470192</td>\n",
       "      <td>3</td>\n",
       "      <td>859</td>\n",
       "      <td>0</td>\n",
       "      <td>0</td>\n",
       "      <td>1</td>\n",
       "      <td>0</td>\n",
       "      <td>0</td>\n",
       "      <td>0</td>\n",
       "      <td>2</td>\n",
       "      <td>0</td>\n",
       "      <td>0</td>\n",
       "      <td>1</td>\n",
       "      <td>0</td>\n",
       "      <td>0</td>\n",
       "      <td>0</td>\n",
       "      <td>2</td>\n",
       "      <td>0</td>\n",
       "      <td>859</td>\n",
       "      <td>0</td>\n",
       "      <td>0</td>\n",
       "      <td>36</td>\n",
       "      <td>Steve_Eminger</td>\n",
       "      <td>0</td>\n",
       "      <td>2013-05-16T23:30:00Z</td>\n",
       "      <td>Boston, Massachusetts</td>\n",
       "      <td>0</td>\n",
       "      <td>0</td>\n",
       "      <td>0</td>\n",
       "      <td>0</td>\n",
       "      <td>0</td>\n",
       "      <td>1</td>\n",
       "      <td>0</td>\n",
       "      <td>0</td>\n",
       "      <td>0</td>\n",
       "      <td>0</td>\n",
       "      <td>0</td>\n",
       "      <td>0</td>\n",
       "      <td>0</td>\n",
       "      <td>0</td>\n",
       "      <td>0</td>\n",
       "      <td>0</td>\n",
       "      <td>0</td>\n",
       "      <td>0</td>\n",
       "      <td>0</td>\n",
       "      <td>0</td>\n",
       "      <td>0</td>\n",
       "      <td>0</td>\n",
       "      <td>0</td>\n",
       "      <td>0</td>\n",
       "      <td>0</td>\n",
       "      <td>0</td>\n",
       "      <td>0</td>\n",
       "      <td>1</td>\n",
       "      <td>0</td>\n",
       "      <td>0</td>\n",
       "      <td>1</td>\n",
       "      <td>0</td>\n",
       "      <td>0</td>\n",
       "      <td>0</td>\n",
       "    </tr>\n",
       "  </tbody>\n",
       "</table>\n",
       "</div>"
      ],
      "text/plain": [
       "      game_id  player_id  team_id  timeOnIce  assists  goals  shots  hits  powerPlayGoals  powerPlayAssists  penaltyMinutes  faceOffWins  faceoffTaken  takeaways  giveaways  shortHandedGoals  shortHandedAssists  blocked  plusMinus  evenTimeOnIce  shortHandedTimeOnIce  powerPlayTimeOnIce  age            Name  isRegSeason             date_time          venueLocation  home  won  nationality_AUS  nationality_AUT  nationality_BLR  nationality_CAN  nationality_CHE  nationality_CZE  nationality_DEU  nationality_DNK  nationality_FIN  nationality_FRA  nationality_GBR  nationality_HRV  nationality_KAZ  nationality_LTU  nationality_LVA  nationality_NGA  nationality_NLD  nationality_NOR  nationality_RUS  nationality_SVK  nationality_SVN  nationality_SWE  nationality_UKR  nationality_USA  primaryPosition_C  primaryPosition_D  primaryPosition_LW  primaryPosition_RW  settled_in_OT  settled_in_REG  settled_in_SO  points\n",
       "0  2012030221    8471958        3       1925        0      0      0     3               0                 0               0            0             0          1          0                 0                   0        5          0           1406                   342                 177   35     Dan_Girardi            0  2013-05-16T23:30:00Z  Boston, Massachusetts     0    0                0                0                0                1                0                0                0                0                0                0                0                0                0                0                0                0                0                0                0                0                0                0                0                0                  0                  1                   0                   0              1               0              0       0\n",
       "1  2012030221    8471339        3       1597        1      0      2     3               0                 0               0            0             0          1          3                 0                   0        2          1           1099                   315                 183   34   Ryan_Callahan            0  2013-05-16T23:30:00Z  Boston, Massachusetts     0    0                0                0                0                0                0                0                0                0                0                0                0                0                0                0                0                0                0                0                0                0                0                0                0                1                  0                  0                   0                   1              1               0              0       1\n",
       "2  2012030221    8471873        3       1695        0      0      1     2               0                 0               0            0             0          0          0                 0                   0        2          0           1488                    99                 108   33  Anton_Stralman            0  2013-05-16T23:30:00Z  Boston, Massachusetts     0    0                0                0                0                0                0                0                0                0                0                0                0                0                0                0                0                0                0                0                0                0                0                1                0                0                  0                  1                   0                   0              1               0              0       0\n",
       "3  2012030221    8473432        3        957        0      0      3     5               0                 0               2            0             0          0          1                 0                   0        0          0            957                     0                   0   33   Derek_Dorsett            0  2013-05-16T23:30:00Z  Boston, Massachusetts     0    0                0                0                0                1                0                0                0                0                0                0                0                0                0                0                0                0                0                0                0                0                0                0                0                0                  0                  0                   0                   1              1               0              0       0\n",
       "4  2012030221    8470192        3        859        0      0      1     0               0                 0               2            0             0          1          0                 0                   0        2          0            859                     0                   0   36   Steve_Eminger            0  2013-05-16T23:30:00Z  Boston, Massachusetts     0    0                0                0                0                1                0                0                0                0                0                0                0                0                0                0                0                0                0                0                0                0                0                0                0                0                  0                  1                   0                   0              1               0              0       0"
      ]
     },
     "execution_count": 87,
     "metadata": {},
     "output_type": "execute_result"
    }
   ],
   "source": [
    "df.head()"
   ]
  },
  {
   "cell_type": "markdown",
   "metadata": {},
   "source": [
    "**df is now ready to be analyzed**"
   ]
  },
  {
   "cell_type": "code",
   "execution_count": 88,
   "metadata": {},
   "outputs": [],
   "source": [
    "dfNHL['Points'] = dfNHL.assists + dfNHL.goals"
   ]
  },
  {
   "cell_type": "code",
   "execution_count": 89,
   "metadata": {
    "scrolled": true
   },
   "outputs": [
    {
     "data": {
      "text/html": [
       "<div>\n",
       "<style scoped>\n",
       "    .dataframe tbody tr th:only-of-type {\n",
       "        vertical-align: middle;\n",
       "    }\n",
       "\n",
       "    .dataframe tbody tr th {\n",
       "        vertical-align: top;\n",
       "    }\n",
       "\n",
       "    .dataframe thead th {\n",
       "        text-align: right;\n",
       "    }\n",
       "</style>\n",
       "<table border=\"1\" class=\"dataframe\">\n",
       "  <thead>\n",
       "    <tr style=\"text-align: right;\">\n",
       "      <th></th>\n",
       "      <th>game_id</th>\n",
       "      <th>player_id</th>\n",
       "      <th>team_id</th>\n",
       "      <th>timeOnIce</th>\n",
       "      <th>assists</th>\n",
       "      <th>goals</th>\n",
       "      <th>shots</th>\n",
       "      <th>hits</th>\n",
       "      <th>powerPlayGoals</th>\n",
       "      <th>powerPlayAssists</th>\n",
       "      <th>penaltyMinutes</th>\n",
       "      <th>faceOffWins</th>\n",
       "      <th>faceoffTaken</th>\n",
       "      <th>takeaways</th>\n",
       "      <th>giveaways</th>\n",
       "      <th>shortHandedGoals</th>\n",
       "      <th>shortHandedAssists</th>\n",
       "      <th>blocked</th>\n",
       "      <th>plusMinus</th>\n",
       "      <th>evenTimeOnIce</th>\n",
       "      <th>shortHandedTimeOnIce</th>\n",
       "      <th>powerPlayTimeOnIce</th>\n",
       "      <th>nationality</th>\n",
       "      <th>primaryPosition</th>\n",
       "      <th>age</th>\n",
       "      <th>Name</th>\n",
       "      <th>teamName</th>\n",
       "      <th>type</th>\n",
       "      <th>date_time</th>\n",
       "      <th>venue</th>\n",
       "      <th>venueLocation</th>\n",
       "      <th>HoA</th>\n",
       "      <th>won</th>\n",
       "      <th>settled_in</th>\n",
       "      <th>Points</th>\n",
       "    </tr>\n",
       "  </thead>\n",
       "  <tbody>\n",
       "    <tr>\n",
       "      <th>0</th>\n",
       "      <td>2012030221</td>\n",
       "      <td>8471958</td>\n",
       "      <td>3</td>\n",
       "      <td>1925</td>\n",
       "      <td>0</td>\n",
       "      <td>0</td>\n",
       "      <td>0</td>\n",
       "      <td>3</td>\n",
       "      <td>0</td>\n",
       "      <td>0</td>\n",
       "      <td>0</td>\n",
       "      <td>0</td>\n",
       "      <td>0</td>\n",
       "      <td>1</td>\n",
       "      <td>0</td>\n",
       "      <td>0</td>\n",
       "      <td>0</td>\n",
       "      <td>5</td>\n",
       "      <td>0</td>\n",
       "      <td>1406</td>\n",
       "      <td>342</td>\n",
       "      <td>177</td>\n",
       "      <td>CAN</td>\n",
       "      <td>D</td>\n",
       "      <td>35</td>\n",
       "      <td>Dan_Girardi</td>\n",
       "      <td>NY Rangers</td>\n",
       "      <td>P</td>\n",
       "      <td>2013-05-16T23:30:00Z</td>\n",
       "      <td>TD Garden</td>\n",
       "      <td>Boston, Massachusetts</td>\n",
       "      <td>away</td>\n",
       "      <td>False</td>\n",
       "      <td>OT</td>\n",
       "      <td>0</td>\n",
       "    </tr>\n",
       "    <tr>\n",
       "      <th>1</th>\n",
       "      <td>2012030221</td>\n",
       "      <td>8471339</td>\n",
       "      <td>3</td>\n",
       "      <td>1597</td>\n",
       "      <td>1</td>\n",
       "      <td>0</td>\n",
       "      <td>2</td>\n",
       "      <td>3</td>\n",
       "      <td>0</td>\n",
       "      <td>0</td>\n",
       "      <td>0</td>\n",
       "      <td>0</td>\n",
       "      <td>0</td>\n",
       "      <td>1</td>\n",
       "      <td>3</td>\n",
       "      <td>0</td>\n",
       "      <td>0</td>\n",
       "      <td>2</td>\n",
       "      <td>1</td>\n",
       "      <td>1099</td>\n",
       "      <td>315</td>\n",
       "      <td>183</td>\n",
       "      <td>USA</td>\n",
       "      <td>RW</td>\n",
       "      <td>34</td>\n",
       "      <td>Ryan_Callahan</td>\n",
       "      <td>NY Rangers</td>\n",
       "      <td>P</td>\n",
       "      <td>2013-05-16T23:30:00Z</td>\n",
       "      <td>TD Garden</td>\n",
       "      <td>Boston, Massachusetts</td>\n",
       "      <td>away</td>\n",
       "      <td>False</td>\n",
       "      <td>OT</td>\n",
       "      <td>1</td>\n",
       "    </tr>\n",
       "    <tr>\n",
       "      <th>2</th>\n",
       "      <td>2012030221</td>\n",
       "      <td>8471873</td>\n",
       "      <td>3</td>\n",
       "      <td>1695</td>\n",
       "      <td>0</td>\n",
       "      <td>0</td>\n",
       "      <td>1</td>\n",
       "      <td>2</td>\n",
       "      <td>0</td>\n",
       "      <td>0</td>\n",
       "      <td>0</td>\n",
       "      <td>0</td>\n",
       "      <td>0</td>\n",
       "      <td>0</td>\n",
       "      <td>0</td>\n",
       "      <td>0</td>\n",
       "      <td>0</td>\n",
       "      <td>2</td>\n",
       "      <td>0</td>\n",
       "      <td>1488</td>\n",
       "      <td>99</td>\n",
       "      <td>108</td>\n",
       "      <td>SWE</td>\n",
       "      <td>D</td>\n",
       "      <td>33</td>\n",
       "      <td>Anton_Stralman</td>\n",
       "      <td>NY Rangers</td>\n",
       "      <td>P</td>\n",
       "      <td>2013-05-16T23:30:00Z</td>\n",
       "      <td>TD Garden</td>\n",
       "      <td>Boston, Massachusetts</td>\n",
       "      <td>away</td>\n",
       "      <td>False</td>\n",
       "      <td>OT</td>\n",
       "      <td>0</td>\n",
       "    </tr>\n",
       "    <tr>\n",
       "      <th>3</th>\n",
       "      <td>2012030221</td>\n",
       "      <td>8473432</td>\n",
       "      <td>3</td>\n",
       "      <td>957</td>\n",
       "      <td>0</td>\n",
       "      <td>0</td>\n",
       "      <td>3</td>\n",
       "      <td>5</td>\n",
       "      <td>0</td>\n",
       "      <td>0</td>\n",
       "      <td>2</td>\n",
       "      <td>0</td>\n",
       "      <td>0</td>\n",
       "      <td>0</td>\n",
       "      <td>1</td>\n",
       "      <td>0</td>\n",
       "      <td>0</td>\n",
       "      <td>0</td>\n",
       "      <td>0</td>\n",
       "      <td>957</td>\n",
       "      <td>0</td>\n",
       "      <td>0</td>\n",
       "      <td>CAN</td>\n",
       "      <td>RW</td>\n",
       "      <td>33</td>\n",
       "      <td>Derek_Dorsett</td>\n",
       "      <td>NY Rangers</td>\n",
       "      <td>P</td>\n",
       "      <td>2013-05-16T23:30:00Z</td>\n",
       "      <td>TD Garden</td>\n",
       "      <td>Boston, Massachusetts</td>\n",
       "      <td>away</td>\n",
       "      <td>False</td>\n",
       "      <td>OT</td>\n",
       "      <td>0</td>\n",
       "    </tr>\n",
       "    <tr>\n",
       "      <th>4</th>\n",
       "      <td>2012030221</td>\n",
       "      <td>8470192</td>\n",
       "      <td>3</td>\n",
       "      <td>859</td>\n",
       "      <td>0</td>\n",
       "      <td>0</td>\n",
       "      <td>1</td>\n",
       "      <td>0</td>\n",
       "      <td>0</td>\n",
       "      <td>0</td>\n",
       "      <td>2</td>\n",
       "      <td>0</td>\n",
       "      <td>0</td>\n",
       "      <td>1</td>\n",
       "      <td>0</td>\n",
       "      <td>0</td>\n",
       "      <td>0</td>\n",
       "      <td>2</td>\n",
       "      <td>0</td>\n",
       "      <td>859</td>\n",
       "      <td>0</td>\n",
       "      <td>0</td>\n",
       "      <td>CAN</td>\n",
       "      <td>D</td>\n",
       "      <td>36</td>\n",
       "      <td>Steve_Eminger</td>\n",
       "      <td>NY Rangers</td>\n",
       "      <td>P</td>\n",
       "      <td>2013-05-16T23:30:00Z</td>\n",
       "      <td>TD Garden</td>\n",
       "      <td>Boston, Massachusetts</td>\n",
       "      <td>away</td>\n",
       "      <td>False</td>\n",
       "      <td>OT</td>\n",
       "      <td>0</td>\n",
       "    </tr>\n",
       "  </tbody>\n",
       "</table>\n",
       "</div>"
      ],
      "text/plain": [
       "      game_id  player_id  team_id  timeOnIce  assists  goals  shots  hits  powerPlayGoals  powerPlayAssists  penaltyMinutes  faceOffWins  faceoffTaken  takeaways  giveaways  shortHandedGoals  shortHandedAssists  blocked  plusMinus  evenTimeOnIce  shortHandedTimeOnIce  powerPlayTimeOnIce nationality primaryPosition  age            Name    teamName type             date_time      venue          venueLocation   HoA    won settled_in  Points\n",
       "0  2012030221    8471958        3       1925        0      0      0     3               0                 0               0            0             0          1          0                 0                   0        5          0           1406                   342                 177         CAN               D   35     Dan_Girardi  NY Rangers    P  2013-05-16T23:30:00Z  TD Garden  Boston, Massachusetts  away  False         OT       0\n",
       "1  2012030221    8471339        3       1597        1      0      2     3               0                 0               0            0             0          1          3                 0                   0        2          1           1099                   315                 183         USA              RW   34   Ryan_Callahan  NY Rangers    P  2013-05-16T23:30:00Z  TD Garden  Boston, Massachusetts  away  False         OT       1\n",
       "2  2012030221    8471873        3       1695        0      0      1     2               0                 0               0            0             0          0          0                 0                   0        2          0           1488                    99                 108         SWE               D   33  Anton_Stralman  NY Rangers    P  2013-05-16T23:30:00Z  TD Garden  Boston, Massachusetts  away  False         OT       0\n",
       "3  2012030221    8473432        3        957        0      0      3     5               0                 0               2            0             0          0          1                 0                   0        0          0            957                     0                   0         CAN              RW   33   Derek_Dorsett  NY Rangers    P  2013-05-16T23:30:00Z  TD Garden  Boston, Massachusetts  away  False         OT       0\n",
       "4  2012030221    8470192        3        859        0      0      1     0               0                 0               2            0             0          1          0                 0                   0        2          0            859                     0                   0         CAN               D   36   Steve_Eminger  NY Rangers    P  2013-05-16T23:30:00Z  TD Garden  Boston, Massachusetts  away  False         OT       0"
      ]
     },
     "execution_count": 89,
     "metadata": {},
     "output_type": "execute_result"
    }
   ],
   "source": [
    "dfNHL.head()"
   ]
  },
  {
   "cell_type": "markdown",
   "metadata": {},
   "source": [
    "### Analyzing Part"
   ]
  },
  {
   "cell_type": "markdown",
   "metadata": {},
   "source": [
    "# **1) Which players to look out for in the playoffs?**\n",
    "\n",
    "### *Shutdown Analysis*"
   ]
  },
  {
   "cell_type": "markdown",
   "metadata": {},
   "source": [
    "Here we create a few DataFrames. 'df_Play_h' and 'df_Play_a' are players' overall stats in the playoffs, either at home or away respectively. 'dfPPh' and 'dfPPa' are players' overall PowerPlay (man advantage: 5v4 or 5v3) stats. "
   ]
  },
  {
   "cell_type": "code",
   "execution_count": 90,
   "metadata": {
    "scrolled": false
   },
   "outputs": [],
   "source": [
    "df_Play_h = dfNHL[(dfNHL.HoA == 'home') & (dfNHL.type == 'P')].groupby(['player_id', 'Name', 'nationality']).\\\n",
    "agg({'game_id' : 'count', 'won' : 'sum','goals' : 'sum', 'assists' : 'sum', 'Points' : 'sum', 'powerPlayGoals' : 'sum', 'shortHandedGoals' : 'sum'}).\\\n",
    "sort_values(by = ['Points', 'game_id', 'goals', 'assists'], ascending = False).\\\n",
    "rename(columns = {'game_id' : 'Games_Played', 'goals' :'Goals', 'assists' : 'Assists', 'powerPlayGoals' : 'PP Goals', 'shortHandedGoals' : 'SH Goals'})"
   ]
  },
  {
   "cell_type": "code",
   "execution_count": 91,
   "metadata": {},
   "outputs": [],
   "source": [
    "df_Play_h['PPG'] = df_Play_h.Points / df_Play_h.Games_Played"
   ]
  },
  {
   "cell_type": "code",
   "execution_count": 92,
   "metadata": {
    "scrolled": true
   },
   "outputs": [],
   "source": [
    "df_Play_a = dfNHL[(dfNHL.HoA == 'away') & (dfNHL.type == 'P')].groupby(['player_id', 'Name', 'nationality']).\\\n",
    "agg({'game_id' : 'count', 'goals' : 'sum', 'assists' : 'sum', 'Points' : 'sum', 'powerPlayGoals' : 'sum', 'shortHandedGoals' : 'sum'}).\\\n",
    "sort_values(by = ['Points', 'game_id', 'goals', 'assists'], ascending = False).head(10).\\\n",
    "rename(columns = {'game_id' : 'Games_Played', 'goals' :'Goals', 'assists' : 'Assists', 'powerPlayGoals' : 'PP Goals', 'shortHandedGoals' : 'SH Goals'})"
   ]
  },
  {
   "cell_type": "code",
   "execution_count": 93,
   "metadata": {},
   "outputs": [],
   "source": [
    "df_Play_a['PPG'] = df_Play_a.Points / df_Play_a.Games_Played"
   ]
  },
  {
   "cell_type": "markdown",
   "metadata": {},
   "source": [
    "For the first two tables, I wanted to see which players that had played in a minimum of 24 playoff games (or 6 4 game series, which is one series per year) had the best points per game at home or away."
   ]
  },
  {
   "cell_type": "code",
   "execution_count": 94,
   "metadata": {},
   "outputs": [
    {
     "data": {
      "text/html": [
       "<div>\n",
       "<style scoped>\n",
       "    .dataframe tbody tr th:only-of-type {\n",
       "        vertical-align: middle;\n",
       "    }\n",
       "\n",
       "    .dataframe tbody tr th {\n",
       "        vertical-align: top;\n",
       "    }\n",
       "\n",
       "    .dataframe thead th {\n",
       "        text-align: right;\n",
       "    }\n",
       "</style>\n",
       "<table border=\"1\" class=\"dataframe\">\n",
       "  <thead>\n",
       "    <tr style=\"text-align: right;\">\n",
       "      <th></th>\n",
       "      <th></th>\n",
       "      <th></th>\n",
       "      <th>Games_Played</th>\n",
       "      <th>won</th>\n",
       "      <th>Goals</th>\n",
       "      <th>Assists</th>\n",
       "      <th>Points</th>\n",
       "      <th>PP Goals</th>\n",
       "      <th>SH Goals</th>\n",
       "      <th>PPG</th>\n",
       "    </tr>\n",
       "    <tr>\n",
       "      <th>player_id</th>\n",
       "      <th>Name</th>\n",
       "      <th>nationality</th>\n",
       "      <th></th>\n",
       "      <th></th>\n",
       "      <th></th>\n",
       "      <th></th>\n",
       "      <th></th>\n",
       "      <th></th>\n",
       "      <th></th>\n",
       "      <th></th>\n",
       "    </tr>\n",
       "  </thead>\n",
       "  <tbody>\n",
       "    <tr>\n",
       "      <th>8470612</th>\n",
       "      <th>Ryan_Getzlaf</th>\n",
       "      <th>CAN</th>\n",
       "      <td>35</td>\n",
       "      <td>19.0</td>\n",
       "      <td>12</td>\n",
       "      <td>34</td>\n",
       "      <td>46</td>\n",
       "      <td>7</td>\n",
       "      <td>0</td>\n",
       "      <td>1.314286</td>\n",
       "    </tr>\n",
       "    <tr>\n",
       "      <th>8474053</th>\n",
       "      <th>Logan_Couture</th>\n",
       "      <th>CAN</th>\n",
       "      <td>29</td>\n",
       "      <td>19.0</td>\n",
       "      <td>15</td>\n",
       "      <td>18</td>\n",
       "      <td>33</td>\n",
       "      <td>7</td>\n",
       "      <td>0</td>\n",
       "      <td>1.137931</td>\n",
       "    </tr>\n",
       "    <tr>\n",
       "      <th>8474141</th>\n",
       "      <th>Patrick_Kane</th>\n",
       "      <th>USA</th>\n",
       "      <td>39</td>\n",
       "      <td>29.0</td>\n",
       "      <td>18</td>\n",
       "      <td>24</td>\n",
       "      <td>42</td>\n",
       "      <td>1</td>\n",
       "      <td>0</td>\n",
       "      <td>1.076923</td>\n",
       "    </tr>\n",
       "    <tr>\n",
       "      <th>8466138</th>\n",
       "      <th>Joe_Thornton</th>\n",
       "      <th>CAN</th>\n",
       "      <td>24</td>\n",
       "      <td>16.0</td>\n",
       "      <td>6</td>\n",
       "      <td>19</td>\n",
       "      <td>25</td>\n",
       "      <td>3</td>\n",
       "      <td>0</td>\n",
       "      <td>1.041667</td>\n",
       "    </tr>\n",
       "    <tr>\n",
       "      <th>8470794</th>\n",
       "      <th>Joe_Pavelski</th>\n",
       "      <th>USA</th>\n",
       "      <td>29</td>\n",
       "      <td>19.0</td>\n",
       "      <td>16</td>\n",
       "      <td>14</td>\n",
       "      <td>30</td>\n",
       "      <td>9</td>\n",
       "      <td>0</td>\n",
       "      <td>1.034483</td>\n",
       "    </tr>\n",
       "    <tr>\n",
       "      <th>8470638</th>\n",
       "      <th>Patrice_Bergeron</th>\n",
       "      <th>CAN</th>\n",
       "      <td>28</td>\n",
       "      <td>15.0</td>\n",
       "      <td>12</td>\n",
       "      <td>16</td>\n",
       "      <td>28</td>\n",
       "      <td>4</td>\n",
       "      <td>1</td>\n",
       "      <td>1.000000</td>\n",
       "    </tr>\n",
       "    <tr>\n",
       "      <th>8471675</th>\n",
       "      <th>Sidney_Crosby</th>\n",
       "      <th>CAN</th>\n",
       "      <td>47</td>\n",
       "      <td>27.0</td>\n",
       "      <td>15</td>\n",
       "      <td>30</td>\n",
       "      <td>45</td>\n",
       "      <td>4</td>\n",
       "      <td>0</td>\n",
       "      <td>0.957447</td>\n",
       "    </tr>\n",
       "    <tr>\n",
       "      <th>8476453</th>\n",
       "      <th>Nikita_Kucherov</th>\n",
       "      <th>RUS</th>\n",
       "      <td>34</td>\n",
       "      <td>18.0</td>\n",
       "      <td>16</td>\n",
       "      <td>16</td>\n",
       "      <td>32</td>\n",
       "      <td>2</td>\n",
       "      <td>0</td>\n",
       "      <td>0.941176</td>\n",
       "    </tr>\n",
       "    <tr>\n",
       "      <th>8471215</th>\n",
       "      <th>Evgeni_Malkin</th>\n",
       "      <th>RUS</th>\n",
       "      <td>48</td>\n",
       "      <td>28.0</td>\n",
       "      <td>15</td>\n",
       "      <td>30</td>\n",
       "      <td>45</td>\n",
       "      <td>3</td>\n",
       "      <td>0</td>\n",
       "      <td>0.937500</td>\n",
       "    </tr>\n",
       "    <tr>\n",
       "      <th>8473548</th>\n",
       "      <th>Phil_Kessel</th>\n",
       "      <th>USA</th>\n",
       "      <td>35</td>\n",
       "      <td>22.0</td>\n",
       "      <td>14</td>\n",
       "      <td>18</td>\n",
       "      <td>32</td>\n",
       "      <td>8</td>\n",
       "      <td>0</td>\n",
       "      <td>0.914286</td>\n",
       "    </tr>\n",
       "  </tbody>\n",
       "</table>\n",
       "</div>"
      ],
      "text/plain": [
       "                                        Games_Played   won  Goals  Assists  Points  PP Goals  SH Goals       PPG\n",
       "player_id Name             nationality                                                                          \n",
       "8470612   Ryan_Getzlaf     CAN                    35  19.0     12       34      46         7         0  1.314286\n",
       "8474053   Logan_Couture    CAN                    29  19.0     15       18      33         7         0  1.137931\n",
       "8474141   Patrick_Kane     USA                    39  29.0     18       24      42         1         0  1.076923\n",
       "8466138   Joe_Thornton     CAN                    24  16.0      6       19      25         3         0  1.041667\n",
       "8470794   Joe_Pavelski     USA                    29  19.0     16       14      30         9         0  1.034483\n",
       "8470638   Patrice_Bergeron CAN                    28  15.0     12       16      28         4         1  1.000000\n",
       "8471675   Sidney_Crosby    CAN                    47  27.0     15       30      45         4         0  0.957447\n",
       "8476453   Nikita_Kucherov  RUS                    34  18.0     16       16      32         2         0  0.941176\n",
       "8471215   Evgeni_Malkin    RUS                    48  28.0     15       30      45         3         0  0.937500\n",
       "8473548   Phil_Kessel      USA                    35  22.0     14       18      32         8         0  0.914286"
      ]
     },
     "execution_count": 94,
     "metadata": {},
     "output_type": "execute_result"
    }
   ],
   "source": [
    "df_Play_h[df_Play_h.Games_Played >= 24].sort_values(by = 'PPG', ascending = False).head(10)"
   ]
  },
  {
   "cell_type": "code",
   "execution_count": 95,
   "metadata": {},
   "outputs": [
    {
     "data": {
      "text/html": [
       "<div>\n",
       "<style scoped>\n",
       "    .dataframe tbody tr th:only-of-type {\n",
       "        vertical-align: middle;\n",
       "    }\n",
       "\n",
       "    .dataframe tbody tr th {\n",
       "        vertical-align: top;\n",
       "    }\n",
       "\n",
       "    .dataframe thead th {\n",
       "        text-align: right;\n",
       "    }\n",
       "</style>\n",
       "<table border=\"1\" class=\"dataframe\">\n",
       "  <thead>\n",
       "    <tr style=\"text-align: right;\">\n",
       "      <th></th>\n",
       "      <th></th>\n",
       "      <th></th>\n",
       "      <th>Games_Played</th>\n",
       "      <th>Goals</th>\n",
       "      <th>Assists</th>\n",
       "      <th>Points</th>\n",
       "      <th>PP Goals</th>\n",
       "      <th>SH Goals</th>\n",
       "      <th>PPG</th>\n",
       "    </tr>\n",
       "    <tr>\n",
       "      <th>player_id</th>\n",
       "      <th>Name</th>\n",
       "      <th>nationality</th>\n",
       "      <th></th>\n",
       "      <th></th>\n",
       "      <th></th>\n",
       "      <th></th>\n",
       "      <th></th>\n",
       "      <th></th>\n",
       "      <th></th>\n",
       "    </tr>\n",
       "  </thead>\n",
       "  <tbody>\n",
       "    <tr>\n",
       "      <th>8471675</th>\n",
       "      <th>Sidney_Crosby</th>\n",
       "      <th>CAN</th>\n",
       "      <td>45</td>\n",
       "      <td>18</td>\n",
       "      <td>32</td>\n",
       "      <td>50</td>\n",
       "      <td>6</td>\n",
       "      <td>0</td>\n",
       "      <td>1.111111</td>\n",
       "    </tr>\n",
       "    <tr>\n",
       "      <th>8471214</th>\n",
       "      <th>Alex_Ovechkin</th>\n",
       "      <th>RUS</th>\n",
       "      <td>35</td>\n",
       "      <td>19</td>\n",
       "      <td>17</td>\n",
       "      <td>36</td>\n",
       "      <td>7</td>\n",
       "      <td>0</td>\n",
       "      <td>1.028571</td>\n",
       "    </tr>\n",
       "    <tr>\n",
       "      <th>8476453</th>\n",
       "      <th>Nikita_Kucherov</th>\n",
       "      <th>RUS</th>\n",
       "      <td>28</td>\n",
       "      <td>13</td>\n",
       "      <td>14</td>\n",
       "      <td>27</td>\n",
       "      <td>6</td>\n",
       "      <td>0</td>\n",
       "      <td>0.964286</td>\n",
       "    </tr>\n",
       "    <tr>\n",
       "      <th>8473563</th>\n",
       "      <th>Nicklas_Backstrom</th>\n",
       "      <th>SWE</th>\n",
       "      <td>32</td>\n",
       "      <td>9</td>\n",
       "      <td>21</td>\n",
       "      <td>30</td>\n",
       "      <td>1</td>\n",
       "      <td>0</td>\n",
       "      <td>0.937500</td>\n",
       "    </tr>\n",
       "    <tr>\n",
       "      <th>8471215</th>\n",
       "      <th>Evgeni_Malkin</th>\n",
       "      <th>RUS</th>\n",
       "      <td>42</td>\n",
       "      <td>15</td>\n",
       "      <td>24</td>\n",
       "      <td>39</td>\n",
       "      <td>6</td>\n",
       "      <td>0</td>\n",
       "      <td>0.928571</td>\n",
       "    </tr>\n",
       "    <tr>\n",
       "      <th>8473548</th>\n",
       "      <th>Phil_Kessel</th>\n",
       "      <th>USA</th>\n",
       "      <td>33</td>\n",
       "      <td>9</td>\n",
       "      <td>19</td>\n",
       "      <td>28</td>\n",
       "      <td>3</td>\n",
       "      <td>0</td>\n",
       "      <td>0.848485</td>\n",
       "    </tr>\n",
       "    <tr>\n",
       "      <th>8474141</th>\n",
       "      <th>Patrick_Kane</th>\n",
       "      <th>USA</th>\n",
       "      <td>37</td>\n",
       "      <td>12</td>\n",
       "      <td>17</td>\n",
       "      <td>29</td>\n",
       "      <td>3</td>\n",
       "      <td>0</td>\n",
       "      <td>0.783784</td>\n",
       "    </tr>\n",
       "    <tr>\n",
       "      <th>8473604</th>\n",
       "      <th>Jonathan_Toews</th>\n",
       "      <th>CAN</th>\n",
       "      <td>37</td>\n",
       "      <td>11</td>\n",
       "      <td>18</td>\n",
       "      <td>29</td>\n",
       "      <td>3</td>\n",
       "      <td>1</td>\n",
       "      <td>0.783784</td>\n",
       "    </tr>\n",
       "    <tr>\n",
       "      <th>8473544</th>\n",
       "      <th>Derick_Brassard</th>\n",
       "      <th>CAN</th>\n",
       "      <td>46</td>\n",
       "      <td>13</td>\n",
       "      <td>20</td>\n",
       "      <td>33</td>\n",
       "      <td>2</td>\n",
       "      <td>0</td>\n",
       "      <td>0.717391</td>\n",
       "    </tr>\n",
       "    <tr>\n",
       "      <th>8470041</th>\n",
       "      <th>Rick_Nash</th>\n",
       "      <th>CAN</th>\n",
       "      <td>43</td>\n",
       "      <td>12</td>\n",
       "      <td>17</td>\n",
       "      <td>29</td>\n",
       "      <td>4</td>\n",
       "      <td>0</td>\n",
       "      <td>0.674419</td>\n",
       "    </tr>\n",
       "  </tbody>\n",
       "</table>\n",
       "</div>"
      ],
      "text/plain": [
       "                                         Games_Played  Goals  Assists  Points  PP Goals  SH Goals       PPG\n",
       "player_id Name              nationality                                                                    \n",
       "8471675   Sidney_Crosby     CAN                    45     18       32      50         6         0  1.111111\n",
       "8471214   Alex_Ovechkin     RUS                    35     19       17      36         7         0  1.028571\n",
       "8476453   Nikita_Kucherov   RUS                    28     13       14      27         6         0  0.964286\n",
       "8473563   Nicklas_Backstrom SWE                    32      9       21      30         1         0  0.937500\n",
       "8471215   Evgeni_Malkin     RUS                    42     15       24      39         6         0  0.928571\n",
       "8473548   Phil_Kessel       USA                    33      9       19      28         3         0  0.848485\n",
       "8474141   Patrick_Kane      USA                    37     12       17      29         3         0  0.783784\n",
       "8473604   Jonathan_Toews    CAN                    37     11       18      29         3         1  0.783784\n",
       "8473544   Derick_Brassard   CAN                    46     13       20      33         2         0  0.717391\n",
       "8470041   Rick_Nash         CAN                    43     12       17      29         4         0  0.674419"
      ]
     },
     "execution_count": 95,
     "metadata": {},
     "output_type": "execute_result"
    }
   ],
   "source": [
    "df_Play_a[df_Play_a.Games_Played >= 24].sort_values(by = 'PPG', ascending = False).head(10)"
   ]
  },
  {
   "cell_type": "markdown",
   "metadata": {},
   "source": [
    "From these two tables we see that Ryan Getzlaf plays well at home, but when he plays away from home, he doesn't have close to the same output as he does at home. While there are a two players, Sidney Crosby and Phil Kessel, that have similar points per game at home and away. What's interesting to note is that they are on the same team, the Pittsburg Penguins since 2015-16 where he played 61 of his total 68 games with (https://www.hockey-reference.com/players/k/kesseph01.html#stats_basic_plus_nhl_po::none)."
   ]
  },
  {
   "cell_type": "code",
   "execution_count": 96,
   "metadata": {
    "scrolled": true
   },
   "outputs": [],
   "source": [
    "dfPPh = dfNHL[(dfNHL.HoA == 'home') & (dfNHL.type == 'P')].groupby(['player_id', 'Name', 'nationality']).\\\n",
    "agg({'game_id' : 'count','goals' : 'sum', 'assists' : 'sum', 'Points' : 'sum', 'powerPlayGoals' : 'sum', 'powerPlayAssists' : 'sum'}).\\\n",
    "sort_values(by = ['powerPlayGoals', 'Points', 'game_id', 'goals', 'assists'], ascending = False).\\\n",
    "rename(columns = {'game_id' : 'Games_Played', 'goals' :'Goals', 'assists' : 'Assists', 'powerPlayGoals' : 'PP_Goals', 'powerPlayAssists' : 'PP_Assists'})"
   ]
  },
  {
   "cell_type": "code",
   "execution_count": 97,
   "metadata": {
    "scrolled": false
   },
   "outputs": [],
   "source": [
    "dfPPa = dfNHL[(dfNHL.HoA == 'away') & (dfNHL.type == 'P')].groupby(['player_id', 'Name', 'nationality']).\\\n",
    "agg({'game_id' : 'count','goals' : 'sum', 'assists' : 'sum', 'Points' : 'sum', 'powerPlayGoals' : 'sum', 'powerPlayAssists' : 'sum'}).\\\n",
    "sort_values(by = ['powerPlayGoals', 'Points', 'game_id', 'goals', 'assists'], ascending = False).\\\n",
    "rename(columns = {'game_id' : 'Games_Played', 'goals' :'Goals', 'assists' : 'Assists', 'powerPlayGoals' : 'PP_Goals', 'powerPlayAssists' : 'PP_Assists'})"
   ]
  },
  {
   "cell_type": "code",
   "execution_count": 98,
   "metadata": {},
   "outputs": [],
   "source": [
    "dfPPh['PP_Points'] = dfPPh.PP_Assists + dfPPh.PP_Goals\n",
    "dfPPh['PP_PointsPG'] = dfPPh.PP_Points / dfPPh.Games_Played\n",
    "dfPPa['PP_Points'] = dfPPa.PP_Assists + dfPPa.PP_Goals\n",
    "dfPPa['PP_PointsPG'] = dfPPa.PP_Points / dfPPa.Games_Played"
   ]
  },
  {
   "cell_type": "markdown",
   "metadata": {},
   "source": [
    "The next two tables show which players have the best Power Play point per game at home or away in the playoffs. This will give us a way to see which players show up the most on the man advantage and help boost their team."
   ]
  },
  {
   "cell_type": "code",
   "execution_count": 99,
   "metadata": {
    "scrolled": true
   },
   "outputs": [
    {
     "data": {
      "text/html": [
       "<div>\n",
       "<style scoped>\n",
       "    .dataframe tbody tr th:only-of-type {\n",
       "        vertical-align: middle;\n",
       "    }\n",
       "\n",
       "    .dataframe tbody tr th {\n",
       "        vertical-align: top;\n",
       "    }\n",
       "\n",
       "    .dataframe thead th {\n",
       "        text-align: right;\n",
       "    }\n",
       "</style>\n",
       "<table border=\"1\" class=\"dataframe\">\n",
       "  <thead>\n",
       "    <tr style=\"text-align: right;\">\n",
       "      <th></th>\n",
       "      <th></th>\n",
       "      <th></th>\n",
       "      <th>Games_Played</th>\n",
       "      <th>Goals</th>\n",
       "      <th>Assists</th>\n",
       "      <th>Points</th>\n",
       "      <th>PP_Goals</th>\n",
       "      <th>PP_Assists</th>\n",
       "      <th>PP_Points</th>\n",
       "      <th>PP_PointsPG</th>\n",
       "    </tr>\n",
       "    <tr>\n",
       "      <th>player_id</th>\n",
       "      <th>Name</th>\n",
       "      <th>nationality</th>\n",
       "      <th></th>\n",
       "      <th></th>\n",
       "      <th></th>\n",
       "      <th></th>\n",
       "      <th></th>\n",
       "      <th></th>\n",
       "      <th></th>\n",
       "      <th></th>\n",
       "    </tr>\n",
       "  </thead>\n",
       "  <tbody>\n",
       "    <tr>\n",
       "      <th>8470794</th>\n",
       "      <th>Joe_Pavelski</th>\n",
       "      <th>USA</th>\n",
       "      <td>29</td>\n",
       "      <td>16</td>\n",
       "      <td>14</td>\n",
       "      <td>30</td>\n",
       "      <td>9</td>\n",
       "      <td>9</td>\n",
       "      <td>18</td>\n",
       "      <td>0.620690</td>\n",
       "    </tr>\n",
       "    <tr>\n",
       "      <th>8474053</th>\n",
       "      <th>Logan_Couture</th>\n",
       "      <th>CAN</th>\n",
       "      <td>29</td>\n",
       "      <td>15</td>\n",
       "      <td>18</td>\n",
       "      <td>33</td>\n",
       "      <td>7</td>\n",
       "      <td>9</td>\n",
       "      <td>16</td>\n",
       "      <td>0.551724</td>\n",
       "    </tr>\n",
       "    <tr>\n",
       "      <th>8466138</th>\n",
       "      <th>Joe_Thornton</th>\n",
       "      <th>CAN</th>\n",
       "      <td>24</td>\n",
       "      <td>6</td>\n",
       "      <td>19</td>\n",
       "      <td>25</td>\n",
       "      <td>3</td>\n",
       "      <td>9</td>\n",
       "      <td>12</td>\n",
       "      <td>0.500000</td>\n",
       "    </tr>\n",
       "    <tr>\n",
       "      <th>8473563</th>\n",
       "      <th>Nicklas_Backstrom</th>\n",
       "      <th>SWE</th>\n",
       "      <td>34</td>\n",
       "      <td>8</td>\n",
       "      <td>20</td>\n",
       "      <td>28</td>\n",
       "      <td>1</td>\n",
       "      <td>16</td>\n",
       "      <td>17</td>\n",
       "      <td>0.500000</td>\n",
       "    </tr>\n",
       "    <tr>\n",
       "      <th>8470612</th>\n",
       "      <th>Ryan_Getzlaf</th>\n",
       "      <th>CAN</th>\n",
       "      <td>35</td>\n",
       "      <td>12</td>\n",
       "      <td>34</td>\n",
       "      <td>46</td>\n",
       "      <td>7</td>\n",
       "      <td>9</td>\n",
       "      <td>16</td>\n",
       "      <td>0.457143</td>\n",
       "    </tr>\n",
       "    <tr>\n",
       "      <th>8473548</th>\n",
       "      <th>Phil_Kessel</th>\n",
       "      <th>USA</th>\n",
       "      <td>35</td>\n",
       "      <td>14</td>\n",
       "      <td>18</td>\n",
       "      <td>32</td>\n",
       "      <td>8</td>\n",
       "      <td>8</td>\n",
       "      <td>16</td>\n",
       "      <td>0.457143</td>\n",
       "    </tr>\n",
       "    <tr>\n",
       "      <th>8474590</th>\n",
       "      <th>John_Carlson</th>\n",
       "      <th>USA</th>\n",
       "      <td>35</td>\n",
       "      <td>5</td>\n",
       "      <td>16</td>\n",
       "      <td>21</td>\n",
       "      <td>5</td>\n",
       "      <td>9</td>\n",
       "      <td>14</td>\n",
       "      <td>0.400000</td>\n",
       "    </tr>\n",
       "    <tr>\n",
       "      <th>8475764</th>\n",
       "      <th>Cam_Fowler</th>\n",
       "      <th>USA</th>\n",
       "      <td>31</td>\n",
       "      <td>3</td>\n",
       "      <td>18</td>\n",
       "      <td>21</td>\n",
       "      <td>1</td>\n",
       "      <td>11</td>\n",
       "      <td>12</td>\n",
       "      <td>0.387097</td>\n",
       "    </tr>\n",
       "    <tr>\n",
       "      <th>8471698</th>\n",
       "      <th>T.J._Oshie</th>\n",
       "      <th>USA</th>\n",
       "      <td>32</td>\n",
       "      <td>12</td>\n",
       "      <td>13</td>\n",
       "      <td>25</td>\n",
       "      <td>6</td>\n",
       "      <td>6</td>\n",
       "      <td>12</td>\n",
       "      <td>0.375000</td>\n",
       "    </tr>\n",
       "    <tr>\n",
       "      <th>8471215</th>\n",
       "      <th>Evgeni_Malkin</th>\n",
       "      <th>RUS</th>\n",
       "      <td>48</td>\n",
       "      <td>15</td>\n",
       "      <td>30</td>\n",
       "      <td>45</td>\n",
       "      <td>3</td>\n",
       "      <td>15</td>\n",
       "      <td>18</td>\n",
       "      <td>0.375000</td>\n",
       "    </tr>\n",
       "  </tbody>\n",
       "</table>\n",
       "</div>"
      ],
      "text/plain": [
       "                                         Games_Played  Goals  Assists  Points  PP_Goals  PP_Assists  PP_Points  PP_PointsPG\n",
       "player_id Name              nationality                                                                                    \n",
       "8470794   Joe_Pavelski      USA                    29     16       14      30         9           9         18     0.620690\n",
       "8474053   Logan_Couture     CAN                    29     15       18      33         7           9         16     0.551724\n",
       "8466138   Joe_Thornton      CAN                    24      6       19      25         3           9         12     0.500000\n",
       "8473563   Nicklas_Backstrom SWE                    34      8       20      28         1          16         17     0.500000\n",
       "8470612   Ryan_Getzlaf      CAN                    35     12       34      46         7           9         16     0.457143\n",
       "8473548   Phil_Kessel       USA                    35     14       18      32         8           8         16     0.457143\n",
       "8474590   John_Carlson      USA                    35      5       16      21         5           9         14     0.400000\n",
       "8475764   Cam_Fowler        USA                    31      3       18      21         1          11         12     0.387097\n",
       "8471698   T.J._Oshie        USA                    32     12       13      25         6           6         12     0.375000\n",
       "8471215   Evgeni_Malkin     RUS                    48     15       30      45         3          15         18     0.375000"
      ]
     },
     "execution_count": 99,
     "metadata": {},
     "output_type": "execute_result"
    }
   ],
   "source": [
    "dfPPh[dfPPh.Games_Played >= 24].sort_values(by = 'PP_PointsPG', ascending = False).head(10)"
   ]
  },
  {
   "cell_type": "markdown",
   "metadata": {},
   "source": [
    "##### *Interesting to note that Joe Pavelski, Logan Couture, and Joe Thornton all play on the San Jose Sharks.*"
   ]
  },
  {
   "cell_type": "code",
   "execution_count": 100,
   "metadata": {
    "scrolled": true
   },
   "outputs": [
    {
     "data": {
      "text/html": [
       "<div>\n",
       "<style scoped>\n",
       "    .dataframe tbody tr th:only-of-type {\n",
       "        vertical-align: middle;\n",
       "    }\n",
       "\n",
       "    .dataframe tbody tr th {\n",
       "        vertical-align: top;\n",
       "    }\n",
       "\n",
       "    .dataframe thead th {\n",
       "        text-align: right;\n",
       "    }\n",
       "</style>\n",
       "<table border=\"1\" class=\"dataframe\">\n",
       "  <thead>\n",
       "    <tr style=\"text-align: right;\">\n",
       "      <th></th>\n",
       "      <th></th>\n",
       "      <th></th>\n",
       "      <th>Games_Played</th>\n",
       "      <th>Goals</th>\n",
       "      <th>Assists</th>\n",
       "      <th>Points</th>\n",
       "      <th>PP_Goals</th>\n",
       "      <th>PP_Assists</th>\n",
       "      <th>PP_Points</th>\n",
       "      <th>PP_PointsPG</th>\n",
       "    </tr>\n",
       "    <tr>\n",
       "      <th>player_id</th>\n",
       "      <th>Name</th>\n",
       "      <th>nationality</th>\n",
       "      <th></th>\n",
       "      <th></th>\n",
       "      <th></th>\n",
       "      <th></th>\n",
       "      <th></th>\n",
       "      <th></th>\n",
       "      <th></th>\n",
       "      <th></th>\n",
       "    </tr>\n",
       "  </thead>\n",
       "  <tbody>\n",
       "    <tr>\n",
       "      <th>8474056</th>\n",
       "      <th>P.K._Subban</th>\n",
       "      <th>CAN</th>\n",
       "      <td>34</td>\n",
       "      <td>8</td>\n",
       "      <td>16</td>\n",
       "      <td>24</td>\n",
       "      <td>6</td>\n",
       "      <td>11</td>\n",
       "      <td>17</td>\n",
       "      <td>0.500000</td>\n",
       "    </tr>\n",
       "    <tr>\n",
       "      <th>8471214</th>\n",
       "      <th>Alex_Ovechkin</th>\n",
       "      <th>RUS</th>\n",
       "      <td>35</td>\n",
       "      <td>19</td>\n",
       "      <td>17</td>\n",
       "      <td>36</td>\n",
       "      <td>7</td>\n",
       "      <td>10</td>\n",
       "      <td>17</td>\n",
       "      <td>0.485714</td>\n",
       "    </tr>\n",
       "    <tr>\n",
       "      <th>8476453</th>\n",
       "      <th>Nikita_Kucherov</th>\n",
       "      <th>RUS</th>\n",
       "      <td>28</td>\n",
       "      <td>13</td>\n",
       "      <td>14</td>\n",
       "      <td>27</td>\n",
       "      <td>6</td>\n",
       "      <td>6</td>\n",
       "      <td>12</td>\n",
       "      <td>0.428571</td>\n",
       "    </tr>\n",
       "    <tr>\n",
       "      <th>8471675</th>\n",
       "      <th>Sidney_Crosby</th>\n",
       "      <th>CAN</th>\n",
       "      <td>45</td>\n",
       "      <td>18</td>\n",
       "      <td>32</td>\n",
       "      <td>50</td>\n",
       "      <td>6</td>\n",
       "      <td>12</td>\n",
       "      <td>18</td>\n",
       "      <td>0.400000</td>\n",
       "    </tr>\n",
       "    <tr>\n",
       "      <th>8473548</th>\n",
       "      <th>Phil_Kessel</th>\n",
       "      <th>USA</th>\n",
       "      <td>33</td>\n",
       "      <td>9</td>\n",
       "      <td>19</td>\n",
       "      <td>28</td>\n",
       "      <td>3</td>\n",
       "      <td>10</td>\n",
       "      <td>13</td>\n",
       "      <td>0.393939</td>\n",
       "    </tr>\n",
       "    <tr>\n",
       "      <th>8471215</th>\n",
       "      <th>Evgeni_Malkin</th>\n",
       "      <th>RUS</th>\n",
       "      <td>42</td>\n",
       "      <td>15</td>\n",
       "      <td>24</td>\n",
       "      <td>39</td>\n",
       "      <td>6</td>\n",
       "      <td>10</td>\n",
       "      <td>16</td>\n",
       "      <td>0.380952</td>\n",
       "    </tr>\n",
       "    <tr>\n",
       "      <th>8474053</th>\n",
       "      <th>Logan_Couture</th>\n",
       "      <th>CAN</th>\n",
       "      <td>29</td>\n",
       "      <td>7</td>\n",
       "      <td>19</td>\n",
       "      <td>26</td>\n",
       "      <td>5</td>\n",
       "      <td>6</td>\n",
       "      <td>11</td>\n",
       "      <td>0.379310</td>\n",
       "    </tr>\n",
       "    <tr>\n",
       "      <th>8475793</th>\n",
       "      <th>Ryan_Johansen</th>\n",
       "      <th>CAN</th>\n",
       "      <td>24</td>\n",
       "      <td>7</td>\n",
       "      <td>17</td>\n",
       "      <td>24</td>\n",
       "      <td>2</td>\n",
       "      <td>7</td>\n",
       "      <td>9</td>\n",
       "      <td>0.375000</td>\n",
       "    </tr>\n",
       "    <tr>\n",
       "      <th>8471685</th>\n",
       "      <th>Anze_Kopitar</th>\n",
       "      <th>SVN</th>\n",
       "      <td>27</td>\n",
       "      <td>5</td>\n",
       "      <td>19</td>\n",
       "      <td>24</td>\n",
       "      <td>2</td>\n",
       "      <td>7</td>\n",
       "      <td>9</td>\n",
       "      <td>0.333333</td>\n",
       "    </tr>\n",
       "    <tr>\n",
       "      <th>8474031</th>\n",
       "      <th>Kevin_Shattenkirk</th>\n",
       "      <th>USA</th>\n",
       "      <td>25</td>\n",
       "      <td>2</td>\n",
       "      <td>15</td>\n",
       "      <td>17</td>\n",
       "      <td>1</td>\n",
       "      <td>7</td>\n",
       "      <td>8</td>\n",
       "      <td>0.320000</td>\n",
       "    </tr>\n",
       "  </tbody>\n",
       "</table>\n",
       "</div>"
      ],
      "text/plain": [
       "                                         Games_Played  Goals  Assists  Points  PP_Goals  PP_Assists  PP_Points  PP_PointsPG\n",
       "player_id Name              nationality                                                                                    \n",
       "8474056   P.K._Subban       CAN                    34      8       16      24         6          11         17     0.500000\n",
       "8471214   Alex_Ovechkin     RUS                    35     19       17      36         7          10         17     0.485714\n",
       "8476453   Nikita_Kucherov   RUS                    28     13       14      27         6           6         12     0.428571\n",
       "8471675   Sidney_Crosby     CAN                    45     18       32      50         6          12         18     0.400000\n",
       "8473548   Phil_Kessel       USA                    33      9       19      28         3          10         13     0.393939\n",
       "8471215   Evgeni_Malkin     RUS                    42     15       24      39         6          10         16     0.380952\n",
       "8474053   Logan_Couture     CAN                    29      7       19      26         5           6         11     0.379310\n",
       "8475793   Ryan_Johansen     CAN                    24      7       17      24         2           7          9     0.375000\n",
       "8471685   Anze_Kopitar      SVN                    27      5       19      24         2           7          9     0.333333\n",
       "8474031   Kevin_Shattenkirk USA                    25      2       15      17         1           7          8     0.320000"
      ]
     },
     "execution_count": 100,
     "metadata": {},
     "output_type": "execute_result"
    }
   ],
   "source": [
    "dfPPa[dfPPa.Games_Played >= 24].sort_values(by = 'PP_PointsPG', ascending = False).head(10)"
   ]
  },
  {
   "cell_type": "markdown",
   "metadata": {},
   "source": [
    "From these two tables we see which players teams should focus more on when they are trying to kill the penalty. From the first table, we see that since the top 3 are from the same team, it becomes a bit harder to contain them, thus they have a higher chance to score, but that doesn't mean a coach can't try and lock them up from doing so. \n",
    "\n",
    "Looking at the two tables, only 5 players total have a PowerPlay points per game of above .500. PowerPlays are not always going to end with a goal, but having players on the ice that increase that chance helps greatly for the team."
   ]
  },
  {
   "cell_type": "markdown",
   "metadata": {},
   "source": [
    "#### **The managerial insight from these 4 tables is two-fold. First, a GM can look at these stats in the playoffs and try and create the best team available to him (that remains under the salary cap) that will perform in the playoffs, with and without the man advantage. There are some players that are clearly elite as they will appear on each table (Phil Kessel for example). These are the players that GMs look for and want to add to their team if feasible.**\n",
    "#### **The second part is that this gives coaches a look at which players to attempt to shut down, or stifle to the best of their ability, to give their team the upperhand. Most of these players are considered to be the best of their team, especially if they show up in more than one table. So a coach has to devise a plan to stop them from giving their team an advantage on the score sheet.**"
   ]
  },
  {
   "cell_type": "markdown",
   "metadata": {},
   "source": [
    "# **2) Does having more Canadians on your team mean more wins?**"
   ]
  },
  {
   "cell_type": "markdown",
   "metadata": {},
   "source": [
    "### Canadians compose the majority of all NHL players per team over all seasons"
   ]
  },
  {
   "cell_type": "code",
   "execution_count": 101,
   "metadata": {},
   "outputs": [
    {
     "data": {
      "text/plain": [
       "<matplotlib.axes._subplots.AxesSubplot at 0x1a1b5cd208>"
      ]
     },
     "execution_count": 101,
     "metadata": {},
     "output_type": "execute_result"
    },
    {
     "data": {
      "image/png": "[encoded data removed]",
      "text/plain": [
       "<Figure size 432x288 with 1 Axes>"
      ]
     },
     "metadata": {},
     "output_type": "display_data"
    }
   ],
   "source": [
    "sns.countplot(y=dfNHL.nationality)"
   ]
  },
  {
   "cell_type": "markdown",
   "metadata": {},
   "source": [
    "### Canadians compose a relatively small portion of total goals scored by all players over all seasons"
   ]
  },
  {
   "cell_type": "code",
   "execution_count": 102,
   "metadata": {},
   "outputs": [
    {
     "data": {
      "text/plain": [
       "<seaborn.axisgrid.FacetGrid at 0x1a1c48fe48>"
      ]
     },
     "execution_count": 102,
     "metadata": {},
     "output_type": "execute_result"
    },
    {
     "data": {
      "image/png": "[encoded data removed]",
      "text/plain": [
       "<Figure size 864x288 with 1 Axes>"
      ]
     },
     "metadata": {},
     "output_type": "display_data"
    }
   ],
   "source": [
    "sns.factorplot(x='nationality', y='goals', data=dfNHL, aspect=3, kind='bar')"
   ]
  },
  {
   "cell_type": "code",
   "execution_count": 103,
   "metadata": {},
   "outputs": [],
   "source": [
    "CANwins = df.groupby(df.team_id)['nationality_CAN','won'].agg(['mean','sum'])"
   ]
  },
  {
   "cell_type": "code",
   "execution_count": 104,
   "metadata": {},
   "outputs": [],
   "source": [
    "CANwins.columns = [' '.join(col).strip() for col in CANwins.columns.values]"
   ]
  },
  {
   "cell_type": "code",
   "execution_count": 105,
   "metadata": {},
   "outputs": [
    {
     "data": {
      "text/html": [
       "<div>\n",
       "<style scoped>\n",
       "    .dataframe tbody tr th:only-of-type {\n",
       "        vertical-align: middle;\n",
       "    }\n",
       "\n",
       "    .dataframe tbody tr th {\n",
       "        vertical-align: top;\n",
       "    }\n",
       "\n",
       "    .dataframe thead th {\n",
       "        text-align: right;\n",
       "    }\n",
       "</style>\n",
       "<table border=\"1\" class=\"dataframe\">\n",
       "  <thead>\n",
       "    <tr style=\"text-align: right;\">\n",
       "      <th></th>\n",
       "      <th>nationality_CAN mean</th>\n",
       "      <th>nationality_CAN sum</th>\n",
       "      <th>won mean</th>\n",
       "      <th>won sum</th>\n",
       "    </tr>\n",
       "    <tr>\n",
       "      <th>team_id</th>\n",
       "      <th></th>\n",
       "      <th></th>\n",
       "      <th></th>\n",
       "      <th></th>\n",
       "    </tr>\n",
       "  </thead>\n",
       "  <tbody>\n",
       "    <tr>\n",
       "      <th>1</th>\n",
       "      <td>0.334171</td>\n",
       "      <td>2791.0</td>\n",
       "      <td>0.424569</td>\n",
       "      <td>3546</td>\n",
       "    </tr>\n",
       "    <tr>\n",
       "      <th>2</th>\n",
       "      <td>0.598574</td>\n",
       "      <td>5204.0</td>\n",
       "      <td>0.488613</td>\n",
       "      <td>4248</td>\n",
       "    </tr>\n",
       "    <tr>\n",
       "      <th>3</th>\n",
       "      <td>0.427603</td>\n",
       "      <td>4102.0</td>\n",
       "      <td>0.544043</td>\n",
       "      <td>5219</td>\n",
       "    </tr>\n",
       "    <tr>\n",
       "      <th>4</th>\n",
       "      <td>0.607276</td>\n",
       "      <td>5225.0</td>\n",
       "      <td>0.474895</td>\n",
       "      <td>4086</td>\n",
       "    </tr>\n",
       "    <tr>\n",
       "      <th>5</th>\n",
       "      <td>0.447437</td>\n",
       "      <td>4452.0</td>\n",
       "      <td>0.596784</td>\n",
       "      <td>5938</td>\n",
       "    </tr>\n",
       "  </tbody>\n",
       "</table>\n",
       "</div>"
      ],
      "text/plain": [
       "         nationality_CAN mean  nationality_CAN sum  won mean  won sum\n",
       "team_id                                                              \n",
       "1                    0.334171               2791.0  0.424569     3546\n",
       "2                    0.598574               5204.0  0.488613     4248\n",
       "3                    0.427603               4102.0  0.544043     5219\n",
       "4                    0.607276               5225.0  0.474895     4086\n",
       "5                    0.447437               4452.0  0.596784     5938"
      ]
     },
     "execution_count": 105,
     "metadata": {},
     "output_type": "execute_result"
    }
   ],
   "source": [
    "CANwins.head()"
   ]
  },
  {
   "cell_type": "markdown",
   "metadata": {},
   "source": [
    "### Most teams have at least 50% Canadian players"
   ]
  },
  {
   "cell_type": "code",
   "execution_count": 106,
   "metadata": {},
   "outputs": [
    {
     "data": {
      "text/plain": [
       "<matplotlib.axes._subplots.AxesSubplot at 0x1a1d5ed6a0>"
      ]
     },
     "execution_count": 106,
     "metadata": {},
     "output_type": "execute_result"
    },
    {
     "data": {
      "image/png": "[encoded data removed]",
      "text/plain": [
       "<Figure size 432x288 with 1 Axes>"
      ]
     },
     "metadata": {},
     "output_type": "display_data"
    }
   ],
   "source": [
    "sns.distplot(CANwins['nationality_CAN mean'], bins=8)"
   ]
  },
  {
   "cell_type": "code",
   "execution_count": 107,
   "metadata": {},
   "outputs": [
    {
     "data": {
      "text/html": [
       "<div>\n",
       "<style scoped>\n",
       "    .dataframe tbody tr th:only-of-type {\n",
       "        vertical-align: middle;\n",
       "    }\n",
       "\n",
       "    .dataframe tbody tr th {\n",
       "        vertical-align: top;\n",
       "    }\n",
       "\n",
       "    .dataframe thead th {\n",
       "        text-align: right;\n",
       "    }\n",
       "</style>\n",
       "<table border=\"1\" class=\"dataframe\">\n",
       "  <thead>\n",
       "    <tr style=\"text-align: right;\">\n",
       "      <th></th>\n",
       "      <th>nationality_CAN mean</th>\n",
       "      <th>nationality_CAN sum</th>\n",
       "      <th>won mean</th>\n",
       "      <th>won sum</th>\n",
       "    </tr>\n",
       "  </thead>\n",
       "  <tbody>\n",
       "    <tr>\n",
       "      <th>nationality_CAN mean</th>\n",
       "      <td>1.000000</td>\n",
       "      <td>0.637507</td>\n",
       "      <td>-0.112019</td>\n",
       "      <td>-0.163276</td>\n",
       "    </tr>\n",
       "    <tr>\n",
       "      <th>nationality_CAN sum</th>\n",
       "      <td>0.637507</td>\n",
       "      <td>1.000000</td>\n",
       "      <td>-0.001939</td>\n",
       "      <td>0.560841</td>\n",
       "    </tr>\n",
       "    <tr>\n",
       "      <th>won mean</th>\n",
       "      <td>-0.112019</td>\n",
       "      <td>-0.001939</td>\n",
       "      <td>1.000000</td>\n",
       "      <td>0.559424</td>\n",
       "    </tr>\n",
       "    <tr>\n",
       "      <th>won sum</th>\n",
       "      <td>-0.163276</td>\n",
       "      <td>0.560841</td>\n",
       "      <td>0.559424</td>\n",
       "      <td>1.000000</td>\n",
       "    </tr>\n",
       "  </tbody>\n",
       "</table>\n",
       "</div>"
      ],
      "text/plain": [
       "                      nationality_CAN mean  nationality_CAN sum  won mean   won sum\n",
       "nationality_CAN mean              1.000000             0.637507 -0.112019 -0.163276\n",
       "nationality_CAN sum               0.637507             1.000000 -0.001939  0.560841\n",
       "won mean                         -0.112019            -0.001939  1.000000  0.559424\n",
       "won sum                          -0.163276             0.560841  0.559424  1.000000"
      ]
     },
     "execution_count": 107,
     "metadata": {},
     "output_type": "execute_result"
    }
   ],
   "source": [
    "CANwins.corr()"
   ]
  },
  {
   "cell_type": "markdown",
   "metadata": {},
   "source": [
    "### Per team over all seasons, as the total count of Canadians increase, average wins decrease"
   ]
  },
  {
   "cell_type": "code",
   "execution_count": 108,
   "metadata": {},
   "outputs": [
    {
     "data": {
      "text/plain": [
       "<matplotlib.axes._subplots.AxesSubplot at 0x1a1b685320>"
      ]
     },
     "execution_count": 108,
     "metadata": {},
     "output_type": "execute_result"
    },
    {
     "data": {
      "image/png": "[encoded data removed]",
      "text/plain": [
       "<Figure size 432x288 with 1 Axes>"
      ]
     },
     "metadata": {},
     "output_type": "display_data"
    }
   ],
   "source": [
    "sns.regplot(x='nationality_CAN sum', y='won mean', data=CANwins)"
   ]
  },
  {
   "cell_type": "markdown",
   "metadata": {},
   "source": [
    "### Per team over all seasons, as the total average count of Canadians increase, average wins decrease"
   ]
  },
  {
   "cell_type": "code",
   "execution_count": 109,
   "metadata": {},
   "outputs": [
    {
     "data": {
      "text/plain": [
       "<matplotlib.axes._subplots.AxesSubplot at 0x1a1d662208>"
      ]
     },
     "execution_count": 109,
     "metadata": {},
     "output_type": "execute_result"
    },
    {
     "data": {
      "image/png": "[encoded data removed]",
      "text/plain": [
       "<Figure size 432x288 with 1 Axes>"
      ]
     },
     "metadata": {},
     "output_type": "display_data"
    }
   ],
   "source": [
    "sns.regplot(x='nationality_CAN mean', y='won mean', data=CANwins)"
   ]
  },
  {
   "cell_type": "markdown",
   "metadata": {},
   "source": [
    "### Per team over all seasons, as the total count of Canadians increase, total wins decrease"
   ]
  },
  {
   "cell_type": "code",
   "execution_count": 110,
   "metadata": {},
   "outputs": [
    {
     "data": {
      "text/plain": [
       "<matplotlib.axes._subplots.AxesSubplot at 0x1a1b709ba8>"
      ]
     },
     "execution_count": 110,
     "metadata": {},
     "output_type": "execute_result"
    },
    {
     "data": {
      "image/png": "[encoded data removed]",
      "text/plain": [
       "<Figure size 432x288 with 1 Axes>"
      ]
     },
     "metadata": {},
     "output_type": "display_data"
    }
   ],
   "source": [
    "sns.regplot(x='nationality_CAN mean', y='won sum', data=CANwins)"
   ]
  },
  {
   "cell_type": "markdown",
   "metadata": {},
   "source": [
    "#### **The assumption might be that Canadians are the best at hockey because they compose such a large portion of players per team.**\n",
    "#### **However, we will interpret that too high a proportion of Canadian players leads to a lack of diversity.**\n",
    "#### **The managerial insight would be to avoid a team composed of strictly Canadians.**"
   ]
  },
  {
   "cell_type": "markdown",
   "metadata": {},
   "source": [
    "# **3) What is the best strategy to take at the end of a game with a low plus/minus?**"
   ]
  },
  {
   "cell_type": "markdown",
   "metadata": {},
   "source": [
    " A quick refresher on plus/minus:\n",
    "Plus/minus is a metric designed to measure individual player and overall team performance during a game. A player is awarded a \"plus\" each time he is on the ice when his team scores an even-strength or shorthanded goal. A player receives a \"minus\" if he is on the ice for an even-strength or shorthanded goal scored by the opposing team. The only other time a goal can be scored is during a \"power-play,\" when a team has more players on the ice because a member of the other team is in the penalty box for a foul."
   ]
  },
  {
   "cell_type": "markdown",
   "metadata": {},
   "source": [
    "First, let us demonstrate that plus/minus is the strongest indicator of winning and find the threshold that guarantees either a win or loss."
   ]
  },
  {
   "cell_type": "code",
   "execution_count": 111,
   "metadata": {},
   "outputs": [
    {
     "data": {
      "text/html": [
       "<div>\n",
       "<style scoped>\n",
       "    .dataframe tbody tr th:only-of-type {\n",
       "        vertical-align: middle;\n",
       "    }\n",
       "\n",
       "    .dataframe tbody tr th {\n",
       "        vertical-align: top;\n",
       "    }\n",
       "\n",
       "    .dataframe thead th {\n",
       "        text-align: right;\n",
       "    }\n",
       "</style>\n",
       "<table border=\"1\" class=\"dataframe\">\n",
       "  <thead>\n",
       "    <tr style=\"text-align: right;\">\n",
       "      <th></th>\n",
       "      <th>game_id</th>\n",
       "      <th>player_id</th>\n",
       "      <th>team_id</th>\n",
       "      <th>timeOnIce</th>\n",
       "      <th>assists</th>\n",
       "      <th>goals</th>\n",
       "      <th>shots</th>\n",
       "      <th>hits</th>\n",
       "      <th>powerPlayGoals</th>\n",
       "      <th>powerPlayAssists</th>\n",
       "      <th>penaltyMinutes</th>\n",
       "      <th>faceOffWins</th>\n",
       "      <th>faceoffTaken</th>\n",
       "      <th>takeaways</th>\n",
       "      <th>giveaways</th>\n",
       "      <th>shortHandedGoals</th>\n",
       "      <th>shortHandedAssists</th>\n",
       "      <th>blocked</th>\n",
       "      <th>plusMinus</th>\n",
       "      <th>evenTimeOnIce</th>\n",
       "      <th>shortHandedTimeOnIce</th>\n",
       "      <th>powerPlayTimeOnIce</th>\n",
       "      <th>age</th>\n",
       "      <th>Name</th>\n",
       "      <th>teamName</th>\n",
       "      <th>type</th>\n",
       "      <th>date_time</th>\n",
       "      <th>venue</th>\n",
       "      <th>venueLocation</th>\n",
       "      <th>HoA</th>\n",
       "      <th>won</th>\n",
       "      <th>Points</th>\n",
       "      <th>nationality_AUS</th>\n",
       "      <th>nationality_AUT</th>\n",
       "      <th>nationality_BLR</th>\n",
       "      <th>nationality_CAN</th>\n",
       "      <th>nationality_CHE</th>\n",
       "      <th>nationality_CZE</th>\n",
       "      <th>nationality_DEU</th>\n",
       "      <th>nationality_DNK</th>\n",
       "      <th>nationality_FIN</th>\n",
       "      <th>nationality_FRA</th>\n",
       "      <th>nationality_GBR</th>\n",
       "      <th>nationality_HRV</th>\n",
       "      <th>nationality_KAZ</th>\n",
       "      <th>nationality_LTU</th>\n",
       "      <th>nationality_LVA</th>\n",
       "      <th>nationality_NGA</th>\n",
       "      <th>nationality_NLD</th>\n",
       "      <th>nationality_NOR</th>\n",
       "      <th>nationality_RUS</th>\n",
       "      <th>nationality_SVK</th>\n",
       "      <th>nationality_SVN</th>\n",
       "      <th>nationality_SWE</th>\n",
       "      <th>nationality_UKR</th>\n",
       "      <th>nationality_USA</th>\n",
       "      <th>primaryPosition_C</th>\n",
       "      <th>primaryPosition_D</th>\n",
       "      <th>primaryPosition_LW</th>\n",
       "      <th>primaryPosition_RW</th>\n",
       "      <th>settled_in_OT</th>\n",
       "      <th>settled_in_REG</th>\n",
       "      <th>settled_in_SO</th>\n",
       "    </tr>\n",
       "  </thead>\n",
       "  <tbody>\n",
       "    <tr>\n",
       "      <th>0</th>\n",
       "      <td>2012030221</td>\n",
       "      <td>8471958</td>\n",
       "      <td>3</td>\n",
       "      <td>1925</td>\n",
       "      <td>0</td>\n",
       "      <td>0</td>\n",
       "      <td>0</td>\n",
       "      <td>3</td>\n",
       "      <td>0</td>\n",
       "      <td>0</td>\n",
       "      <td>0</td>\n",
       "      <td>0</td>\n",
       "      <td>0</td>\n",
       "      <td>1</td>\n",
       "      <td>0</td>\n",
       "      <td>0</td>\n",
       "      <td>0</td>\n",
       "      <td>5</td>\n",
       "      <td>0</td>\n",
       "      <td>1406</td>\n",
       "      <td>342</td>\n",
       "      <td>177</td>\n",
       "      <td>35</td>\n",
       "      <td>Dan_Girardi</td>\n",
       "      <td>NY Rangers</td>\n",
       "      <td>P</td>\n",
       "      <td>2013-05-16T23:30:00Z</td>\n",
       "      <td>TD Garden</td>\n",
       "      <td>Boston, Massachusetts</td>\n",
       "      <td>away</td>\n",
       "      <td>False</td>\n",
       "      <td>0</td>\n",
       "      <td>0</td>\n",
       "      <td>0</td>\n",
       "      <td>0</td>\n",
       "      <td>1</td>\n",
       "      <td>0</td>\n",
       "      <td>0</td>\n",
       "      <td>0</td>\n",
       "      <td>0</td>\n",
       "      <td>0</td>\n",
       "      <td>0</td>\n",
       "      <td>0</td>\n",
       "      <td>0</td>\n",
       "      <td>0</td>\n",
       "      <td>0</td>\n",
       "      <td>0</td>\n",
       "      <td>0</td>\n",
       "      <td>0</td>\n",
       "      <td>0</td>\n",
       "      <td>0</td>\n",
       "      <td>0</td>\n",
       "      <td>0</td>\n",
       "      <td>0</td>\n",
       "      <td>0</td>\n",
       "      <td>0</td>\n",
       "      <td>0</td>\n",
       "      <td>1</td>\n",
       "      <td>0</td>\n",
       "      <td>0</td>\n",
       "      <td>1</td>\n",
       "      <td>0</td>\n",
       "      <td>0</td>\n",
       "    </tr>\n",
       "    <tr>\n",
       "      <th>1</th>\n",
       "      <td>2012030221</td>\n",
       "      <td>8471339</td>\n",
       "      <td>3</td>\n",
       "      <td>1597</td>\n",
       "      <td>1</td>\n",
       "      <td>0</td>\n",
       "      <td>2</td>\n",
       "      <td>3</td>\n",
       "      <td>0</td>\n",
       "      <td>0</td>\n",
       "      <td>0</td>\n",
       "      <td>0</td>\n",
       "      <td>0</td>\n",
       "      <td>1</td>\n",
       "      <td>3</td>\n",
       "      <td>0</td>\n",
       "      <td>0</td>\n",
       "      <td>2</td>\n",
       "      <td>1</td>\n",
       "      <td>1099</td>\n",
       "      <td>315</td>\n",
       "      <td>183</td>\n",
       "      <td>34</td>\n",
       "      <td>Ryan_Callahan</td>\n",
       "      <td>NY Rangers</td>\n",
       "      <td>P</td>\n",
       "      <td>2013-05-16T23:30:00Z</td>\n",
       "      <td>TD Garden</td>\n",
       "      <td>Boston, Massachusetts</td>\n",
       "      <td>away</td>\n",
       "      <td>False</td>\n",
       "      <td>1</td>\n",
       "      <td>0</td>\n",
       "      <td>0</td>\n",
       "      <td>0</td>\n",
       "      <td>0</td>\n",
       "      <td>0</td>\n",
       "      <td>0</td>\n",
       "      <td>0</td>\n",
       "      <td>0</td>\n",
       "      <td>0</td>\n",
       "      <td>0</td>\n",
       "      <td>0</td>\n",
       "      <td>0</td>\n",
       "      <td>0</td>\n",
       "      <td>0</td>\n",
       "      <td>0</td>\n",
       "      <td>0</td>\n",
       "      <td>0</td>\n",
       "      <td>0</td>\n",
       "      <td>0</td>\n",
       "      <td>0</td>\n",
       "      <td>0</td>\n",
       "      <td>0</td>\n",
       "      <td>0</td>\n",
       "      <td>1</td>\n",
       "      <td>0</td>\n",
       "      <td>0</td>\n",
       "      <td>0</td>\n",
       "      <td>1</td>\n",
       "      <td>1</td>\n",
       "      <td>0</td>\n",
       "      <td>0</td>\n",
       "    </tr>\n",
       "    <tr>\n",
       "      <th>2</th>\n",
       "      <td>2012030221</td>\n",
       "      <td>8471873</td>\n",
       "      <td>3</td>\n",
       "      <td>1695</td>\n",
       "      <td>0</td>\n",
       "      <td>0</td>\n",
       "      <td>1</td>\n",
       "      <td>2</td>\n",
       "      <td>0</td>\n",
       "      <td>0</td>\n",
       "      <td>0</td>\n",
       "      <td>0</td>\n",
       "      <td>0</td>\n",
       "      <td>0</td>\n",
       "      <td>0</td>\n",
       "      <td>0</td>\n",
       "      <td>0</td>\n",
       "      <td>2</td>\n",
       "      <td>0</td>\n",
       "      <td>1488</td>\n",
       "      <td>99</td>\n",
       "      <td>108</td>\n",
       "      <td>33</td>\n",
       "      <td>Anton_Stralman</td>\n",
       "      <td>NY Rangers</td>\n",
       "      <td>P</td>\n",
       "      <td>2013-05-16T23:30:00Z</td>\n",
       "      <td>TD Garden</td>\n",
       "      <td>Boston, Massachusetts</td>\n",
       "      <td>away</td>\n",
       "      <td>False</td>\n",
       "      <td>0</td>\n",
       "      <td>0</td>\n",
       "      <td>0</td>\n",
       "      <td>0</td>\n",
       "      <td>0</td>\n",
       "      <td>0</td>\n",
       "      <td>0</td>\n",
       "      <td>0</td>\n",
       "      <td>0</td>\n",
       "      <td>0</td>\n",
       "      <td>0</td>\n",
       "      <td>0</td>\n",
       "      <td>0</td>\n",
       "      <td>0</td>\n",
       "      <td>0</td>\n",
       "      <td>0</td>\n",
       "      <td>0</td>\n",
       "      <td>0</td>\n",
       "      <td>0</td>\n",
       "      <td>0</td>\n",
       "      <td>0</td>\n",
       "      <td>0</td>\n",
       "      <td>1</td>\n",
       "      <td>0</td>\n",
       "      <td>0</td>\n",
       "      <td>0</td>\n",
       "      <td>1</td>\n",
       "      <td>0</td>\n",
       "      <td>0</td>\n",
       "      <td>1</td>\n",
       "      <td>0</td>\n",
       "      <td>0</td>\n",
       "    </tr>\n",
       "    <tr>\n",
       "      <th>3</th>\n",
       "      <td>2012030221</td>\n",
       "      <td>8473432</td>\n",
       "      <td>3</td>\n",
       "      <td>957</td>\n",
       "      <td>0</td>\n",
       "      <td>0</td>\n",
       "      <td>3</td>\n",
       "      <td>5</td>\n",
       "      <td>0</td>\n",
       "      <td>0</td>\n",
       "      <td>2</td>\n",
       "      <td>0</td>\n",
       "      <td>0</td>\n",
       "      <td>0</td>\n",
       "      <td>1</td>\n",
       "      <td>0</td>\n",
       "      <td>0</td>\n",
       "      <td>0</td>\n",
       "      <td>0</td>\n",
       "      <td>957</td>\n",
       "      <td>0</td>\n",
       "      <td>0</td>\n",
       "      <td>33</td>\n",
       "      <td>Derek_Dorsett</td>\n",
       "      <td>NY Rangers</td>\n",
       "      <td>P</td>\n",
       "      <td>2013-05-16T23:30:00Z</td>\n",
       "      <td>TD Garden</td>\n",
       "      <td>Boston, Massachusetts</td>\n",
       "      <td>away</td>\n",
       "      <td>False</td>\n",
       "      <td>0</td>\n",
       "      <td>0</td>\n",
       "      <td>0</td>\n",
       "      <td>0</td>\n",
       "      <td>1</td>\n",
       "      <td>0</td>\n",
       "      <td>0</td>\n",
       "      <td>0</td>\n",
       "      <td>0</td>\n",
       "      <td>0</td>\n",
       "      <td>0</td>\n",
       "      <td>0</td>\n",
       "      <td>0</td>\n",
       "      <td>0</td>\n",
       "      <td>0</td>\n",
       "      <td>0</td>\n",
       "      <td>0</td>\n",
       "      <td>0</td>\n",
       "      <td>0</td>\n",
       "      <td>0</td>\n",
       "      <td>0</td>\n",
       "      <td>0</td>\n",
       "      <td>0</td>\n",
       "      <td>0</td>\n",
       "      <td>0</td>\n",
       "      <td>0</td>\n",
       "      <td>0</td>\n",
       "      <td>0</td>\n",
       "      <td>1</td>\n",
       "      <td>1</td>\n",
       "      <td>0</td>\n",
       "      <td>0</td>\n",
       "    </tr>\n",
       "    <tr>\n",
       "      <th>4</th>\n",
       "      <td>2012030221</td>\n",
       "      <td>8470192</td>\n",
       "      <td>3</td>\n",
       "      <td>859</td>\n",
       "      <td>0</td>\n",
       "      <td>0</td>\n",
       "      <td>1</td>\n",
       "      <td>0</td>\n",
       "      <td>0</td>\n",
       "      <td>0</td>\n",
       "      <td>2</td>\n",
       "      <td>0</td>\n",
       "      <td>0</td>\n",
       "      <td>1</td>\n",
       "      <td>0</td>\n",
       "      <td>0</td>\n",
       "      <td>0</td>\n",
       "      <td>2</td>\n",
       "      <td>0</td>\n",
       "      <td>859</td>\n",
       "      <td>0</td>\n",
       "      <td>0</td>\n",
       "      <td>36</td>\n",
       "      <td>Steve_Eminger</td>\n",
       "      <td>NY Rangers</td>\n",
       "      <td>P</td>\n",
       "      <td>2013-05-16T23:30:00Z</td>\n",
       "      <td>TD Garden</td>\n",
       "      <td>Boston, Massachusetts</td>\n",
       "      <td>away</td>\n",
       "      <td>False</td>\n",
       "      <td>0</td>\n",
       "      <td>0</td>\n",
       "      <td>0</td>\n",
       "      <td>0</td>\n",
       "      <td>1</td>\n",
       "      <td>0</td>\n",
       "      <td>0</td>\n",
       "      <td>0</td>\n",
       "      <td>0</td>\n",
       "      <td>0</td>\n",
       "      <td>0</td>\n",
       "      <td>0</td>\n",
       "      <td>0</td>\n",
       "      <td>0</td>\n",
       "      <td>0</td>\n",
       "      <td>0</td>\n",
       "      <td>0</td>\n",
       "      <td>0</td>\n",
       "      <td>0</td>\n",
       "      <td>0</td>\n",
       "      <td>0</td>\n",
       "      <td>0</td>\n",
       "      <td>0</td>\n",
       "      <td>0</td>\n",
       "      <td>0</td>\n",
       "      <td>0</td>\n",
       "      <td>1</td>\n",
       "      <td>0</td>\n",
       "      <td>0</td>\n",
       "      <td>1</td>\n",
       "      <td>0</td>\n",
       "      <td>0</td>\n",
       "    </tr>\n",
       "  </tbody>\n",
       "</table>\n",
       "</div>"
      ],
      "text/plain": [
       "      game_id  player_id  team_id  timeOnIce  assists  goals  shots  hits  powerPlayGoals  powerPlayAssists  penaltyMinutes  faceOffWins  faceoffTaken  takeaways  giveaways  shortHandedGoals  shortHandedAssists  blocked  plusMinus  evenTimeOnIce  shortHandedTimeOnIce  powerPlayTimeOnIce  age            Name    teamName type             date_time      venue          venueLocation   HoA    won  Points  nationality_AUS  nationality_AUT  nationality_BLR  nationality_CAN  nationality_CHE  nationality_CZE  nationality_DEU  nationality_DNK  nationality_FIN  nationality_FRA  nationality_GBR  nationality_HRV  nationality_KAZ  nationality_LTU  nationality_LVA  nationality_NGA  nationality_NLD  nationality_NOR  nationality_RUS  nationality_SVK  nationality_SVN  nationality_SWE  nationality_UKR  nationality_USA  primaryPosition_C  primaryPosition_D  primaryPosition_LW  primaryPosition_RW  settled_in_OT  settled_in_REG  settled_in_SO\n",
       "0  2012030221    8471958        3       1925        0      0      0     3               0                 0               0            0             0          1          0                 0                   0        5          0           1406                   342                 177   35     Dan_Girardi  NY Rangers    P  2013-05-16T23:30:00Z  TD Garden  Boston, Massachusetts  away  False       0                0                0                0                1                0                0                0                0                0                0                0                0                0                0                0                0                0                0                0                0                0                0                0                0                  0                  1                   0                   0              1               0              0\n",
       "1  2012030221    8471339        3       1597        1      0      2     3               0                 0               0            0             0          1          3                 0                   0        2          1           1099                   315                 183   34   Ryan_Callahan  NY Rangers    P  2013-05-16T23:30:00Z  TD Garden  Boston, Massachusetts  away  False       1                0                0                0                0                0                0                0                0                0                0                0                0                0                0                0                0                0                0                0                0                0                0                0                1                  0                  0                   0                   1              1               0              0\n",
       "2  2012030221    8471873        3       1695        0      0      1     2               0                 0               0            0             0          0          0                 0                   0        2          0           1488                    99                 108   33  Anton_Stralman  NY Rangers    P  2013-05-16T23:30:00Z  TD Garden  Boston, Massachusetts  away  False       0                0                0                0                0                0                0                0                0                0                0                0                0                0                0                0                0                0                0                0                0                0                1                0                0                  0                  1                   0                   0              1               0              0\n",
       "3  2012030221    8473432        3        957        0      0      3     5               0                 0               2            0             0          0          1                 0                   0        0          0            957                     0                   0   33   Derek_Dorsett  NY Rangers    P  2013-05-16T23:30:00Z  TD Garden  Boston, Massachusetts  away  False       0                0                0                0                1                0                0                0                0                0                0                0                0                0                0                0                0                0                0                0                0                0                0                0                0                  0                  0                   0                   1              1               0              0\n",
       "4  2012030221    8470192        3        859        0      0      1     0               0                 0               2            0             0          1          0                 0                   0        2          0            859                     0                   0   36   Steve_Eminger  NY Rangers    P  2013-05-16T23:30:00Z  TD Garden  Boston, Massachusetts  away  False       0                0                0                0                1                0                0                0                0                0                0                0                0                0                0                0                0                0                0                0                0                0                0                0                0                  0                  1                   0                   0              1               0              0"
      ]
     },
     "execution_count": 111,
     "metadata": {},
     "output_type": "execute_result"
    }
   ],
   "source": [
    "dt = tree.DecisionTreeClassifier(max_depth=2)\n",
    "view = pd.get_dummies(dfNHL, columns=['nationality','primaryPosition', 'settled_in'])\n",
    "view.head()"
   ]
  },
  {
   "cell_type": "code",
   "execution_count": 112,
   "metadata": {},
   "outputs": [],
   "source": [
    "# Drop columns with non-integer values and that are not relevant to the analysis\n",
    "view.drop(columns={'Name','teamName','date_time','venue','venueLocation'},inplace=True)\n",
    "\n",
    "# Replace type of game with 1.0 for playoff and 0.0 for regular-season\n",
    "view['type'] = view.type.replace({'P':1.0, 'R':0.0})\n",
    "\n",
    "# Rename type to isPlayoff\n",
    "view.rename(columns={'type':'isPlayoff'}, inplace=True)\n",
    "\n",
    "# Replace home with 1.0 and away with 0.0\n",
    "view['HoA'] = view.HoA.replace({'home':1.0, 'away':0.0})\n",
    "\n",
    "# Rename HoA to home \n",
    "view.rename(columns={'HoA':'home'}, inplace=True)"
   ]
  },
  {
   "cell_type": "code",
   "execution_count": 113,
   "metadata": {},
   "outputs": [
    {
     "data": {
      "text/plain": [
       "DecisionTreeClassifier(class_weight=None, criterion='gini', max_depth=2,\n",
       "            max_features=None, max_leaf_nodes=None,\n",
       "            min_impurity_decrease=0.0, min_impurity_split=None,\n",
       "            min_samples_leaf=1, min_samples_split=2,\n",
       "            min_weight_fraction_leaf=0.0, presort=False, random_state=None,\n",
       "            splitter='best')"
      ]
     },
     "execution_count": 113,
     "metadata": {},
     "output_type": "execute_result"
    }
   ],
   "source": [
    "# Assign attributes to X and Y to train the decision tree\n",
    "X = view.drop('won', axis=1)\n",
    "Y = view.won\n",
    "dt.fit(X,Y)"
   ]
  },
  {
   "cell_type": "code",
   "execution_count": 114,
   "metadata": {},
   "outputs": [
    {
     "data": {
      "image/png": "[encoded data removed]",
      "text/plain": [
       "<IPython.core.display.Image object>"
      ]
     },
     "execution_count": 114,
     "metadata": {},
     "output_type": "execute_result"
    }
   ],
   "source": [
    "# Train the decision tree with the attributes from X and Y\n",
    "dt_feature_names = list(X.columns)\n",
    "dt_target_names = [str(s) for s in Y.unique()]\n",
    "tree.export_graphviz(dt, out_file='tree.dot', \n",
    "    feature_names=dt_feature_names, class_names=dt_target_names,\n",
    "    filled=True)  \n",
    "graph = pydotplus.graph_from_dot_file('tree.dot')\n",
    "Image(graph.create_png())"
   ]
  },
  {
   "cell_type": "markdown",
   "metadata": {},
   "source": [
    "This decision tree shows that plus/minus is the strongest indicator of a specific player winning or losing. Additionally, it shows that a player with an overall plus/minus of less than 0.5 cannot win a game settled in regulation - this is logical as a negative plus/minus would result in a loss (unless all goals are scored on a power play) and a 0 plus/minus game at the end of regulation means a game must go to overtime."
   ]
  },
  {
   "cell_type": "code",
   "execution_count": 115,
   "metadata": {},
   "outputs": [
    {
     "data": {
      "text/plain": [
       "<seaborn.axisgrid.FacetGrid at 0x1a1d7a4e48>"
      ]
     },
     "execution_count": 115,
     "metadata": {},
     "output_type": "execute_result"
    },
    {
     "data": {
      "image/png": "[encoded data removed]",
      "text/plain": [
       "<Figure size 946.625x288 with 1 Axes>"
      ]
     },
     "metadata": {},
     "output_type": "display_data"
    }
   ],
   "source": [
    "sns.factorplot(x='plusMinus',y='won', hue='settled_in_REG',\\\n",
    "              data=view,aspect=3)"
   ]
  },
  {
   "cell_type": "markdown",
   "metadata": {},
   "source": [
    "The chart above validates that there are no games ended in regulation time with a 0 or lower plus/minus that have resulted in a win. However, there seems to be an anomaly among -4. How can a player with a plus/minus of -4 have won?"
   ]
  },
  {
   "cell_type": "markdown",
   "metadata": {},
   "source": [
    "Let us group the data by team and create a new decision tree to try and find the attribute that means a team has won with a negative plus/minus."
   ]
  },
  {
   "cell_type": "code",
   "execution_count": 116,
   "metadata": {},
   "outputs": [
    {
     "data": {
      "text/html": [
       "<div>\n",
       "<style scoped>\n",
       "    .dataframe tbody tr th:only-of-type {\n",
       "        vertical-align: middle;\n",
       "    }\n",
       "\n",
       "    .dataframe tbody tr th {\n",
       "        vertical-align: top;\n",
       "    }\n",
       "\n",
       "    .dataframe thead th {\n",
       "        text-align: right;\n",
       "    }\n",
       "</style>\n",
       "<table border=\"1\" class=\"dataframe\">\n",
       "  <thead>\n",
       "    <tr style=\"text-align: right;\">\n",
       "      <th></th>\n",
       "      <th></th>\n",
       "      <th>player_id</th>\n",
       "      <th>timeOnIce</th>\n",
       "      <th>assists</th>\n",
       "      <th>goals</th>\n",
       "      <th>shots</th>\n",
       "      <th>hits</th>\n",
       "      <th>powerPlayGoals</th>\n",
       "      <th>powerPlayAssists</th>\n",
       "      <th>penaltyMinutes</th>\n",
       "      <th>faceOffWins</th>\n",
       "      <th>faceoffTaken</th>\n",
       "      <th>takeaways</th>\n",
       "      <th>giveaways</th>\n",
       "      <th>shortHandedGoals</th>\n",
       "      <th>shortHandedAssists</th>\n",
       "      <th>blocked</th>\n",
       "      <th>plusMinus</th>\n",
       "      <th>evenTimeOnIce</th>\n",
       "      <th>shortHandedTimeOnIce</th>\n",
       "      <th>powerPlayTimeOnIce</th>\n",
       "      <th>age</th>\n",
       "      <th>isPlayoff</th>\n",
       "      <th>home</th>\n",
       "      <th>won</th>\n",
       "      <th>Points</th>\n",
       "      <th>nationality_AUS</th>\n",
       "      <th>nationality_AUT</th>\n",
       "      <th>nationality_BLR</th>\n",
       "      <th>nationality_CAN</th>\n",
       "      <th>nationality_CHE</th>\n",
       "      <th>nationality_CZE</th>\n",
       "      <th>nationality_DEU</th>\n",
       "      <th>nationality_DNK</th>\n",
       "      <th>nationality_FIN</th>\n",
       "      <th>nationality_FRA</th>\n",
       "      <th>nationality_GBR</th>\n",
       "      <th>nationality_HRV</th>\n",
       "      <th>nationality_KAZ</th>\n",
       "      <th>nationality_LTU</th>\n",
       "      <th>nationality_LVA</th>\n",
       "      <th>nationality_NGA</th>\n",
       "      <th>nationality_NLD</th>\n",
       "      <th>nationality_NOR</th>\n",
       "      <th>nationality_RUS</th>\n",
       "      <th>nationality_SVK</th>\n",
       "      <th>nationality_SVN</th>\n",
       "      <th>nationality_SWE</th>\n",
       "      <th>nationality_UKR</th>\n",
       "      <th>nationality_USA</th>\n",
       "      <th>primaryPosition_C</th>\n",
       "      <th>primaryPosition_D</th>\n",
       "      <th>primaryPosition_LW</th>\n",
       "      <th>primaryPosition_RW</th>\n",
       "      <th>settled_in_OT</th>\n",
       "      <th>settled_in_REG</th>\n",
       "      <th>settled_in_SO</th>\n",
       "    </tr>\n",
       "    <tr>\n",
       "      <th>game_id</th>\n",
       "      <th>team_id</th>\n",
       "      <th></th>\n",
       "      <th></th>\n",
       "      <th></th>\n",
       "      <th></th>\n",
       "      <th></th>\n",
       "      <th></th>\n",
       "      <th></th>\n",
       "      <th></th>\n",
       "      <th></th>\n",
       "      <th></th>\n",
       "      <th></th>\n",
       "      <th></th>\n",
       "      <th></th>\n",
       "      <th></th>\n",
       "      <th></th>\n",
       "      <th></th>\n",
       "      <th></th>\n",
       "      <th></th>\n",
       "      <th></th>\n",
       "      <th></th>\n",
       "      <th></th>\n",
       "      <th></th>\n",
       "      <th></th>\n",
       "      <th></th>\n",
       "      <th></th>\n",
       "      <th></th>\n",
       "      <th></th>\n",
       "      <th></th>\n",
       "      <th></th>\n",
       "      <th></th>\n",
       "      <th></th>\n",
       "      <th></th>\n",
       "      <th></th>\n",
       "      <th></th>\n",
       "      <th></th>\n",
       "      <th></th>\n",
       "      <th></th>\n",
       "      <th></th>\n",
       "      <th></th>\n",
       "      <th></th>\n",
       "      <th></th>\n",
       "      <th></th>\n",
       "      <th></th>\n",
       "      <th></th>\n",
       "      <th></th>\n",
       "      <th></th>\n",
       "      <th></th>\n",
       "      <th></th>\n",
       "      <th></th>\n",
       "      <th></th>\n",
       "      <th></th>\n",
       "      <th></th>\n",
       "      <th></th>\n",
       "      <th></th>\n",
       "      <th></th>\n",
       "      <th></th>\n",
       "    </tr>\n",
       "  </thead>\n",
       "  <tbody>\n",
       "    <tr>\n",
       "      <th rowspan=\"2\" valign=\"top\">2012020001</th>\n",
       "      <th>4</th>\n",
       "      <td>152498864</td>\n",
       "      <td>17800</td>\n",
       "      <td>2</td>\n",
       "      <td>1</td>\n",
       "      <td>27</td>\n",
       "      <td>40</td>\n",
       "      <td>0</td>\n",
       "      <td>0</td>\n",
       "      <td>6</td>\n",
       "      <td>27</td>\n",
       "      <td>62</td>\n",
       "      <td>8</td>\n",
       "      <td>11</td>\n",
       "      <td>0</td>\n",
       "      <td>0</td>\n",
       "      <td>12</td>\n",
       "      <td>0</td>\n",
       "      <td>13930</td>\n",
       "      <td>1012</td>\n",
       "      <td>2858</td>\n",
       "      <td>589</td>\n",
       "      <td>0.0</td>\n",
       "      <td>18.0</td>\n",
       "      <td>0.0</td>\n",
       "      <td>3</td>\n",
       "      <td>0</td>\n",
       "      <td>0</td>\n",
       "      <td>0</td>\n",
       "      <td>13</td>\n",
       "      <td>0</td>\n",
       "      <td>1</td>\n",
       "      <td>0</td>\n",
       "      <td>0</td>\n",
       "      <td>1</td>\n",
       "      <td>0</td>\n",
       "      <td>0</td>\n",
       "      <td>0</td>\n",
       "      <td>0</td>\n",
       "      <td>0</td>\n",
       "      <td>0</td>\n",
       "      <td>0</td>\n",
       "      <td>0</td>\n",
       "      <td>0</td>\n",
       "      <td>0</td>\n",
       "      <td>1</td>\n",
       "      <td>0</td>\n",
       "      <td>1</td>\n",
       "      <td>1</td>\n",
       "      <td>0</td>\n",
       "      <td>6</td>\n",
       "      <td>6</td>\n",
       "      <td>3</td>\n",
       "      <td>3</td>\n",
       "      <td>0</td>\n",
       "      <td>18</td>\n",
       "      <td>0</td>\n",
       "    </tr>\n",
       "    <tr>\n",
       "      <th>5</th>\n",
       "      <td>152471364</td>\n",
       "      <td>17401</td>\n",
       "      <td>4</td>\n",
       "      <td>3</td>\n",
       "      <td>27</td>\n",
       "      <td>37</td>\n",
       "      <td>2</td>\n",
       "      <td>3</td>\n",
       "      <td>10</td>\n",
       "      <td>35</td>\n",
       "      <td>62</td>\n",
       "      <td>10</td>\n",
       "      <td>6</td>\n",
       "      <td>0</td>\n",
       "      <td>0</td>\n",
       "      <td>12</td>\n",
       "      <td>0</td>\n",
       "      <td>13896</td>\n",
       "      <td>2260</td>\n",
       "      <td>1245</td>\n",
       "      <td>627</td>\n",
       "      <td>0.0</td>\n",
       "      <td>0.0</td>\n",
       "      <td>18.0</td>\n",
       "      <td>7</td>\n",
       "      <td>0</td>\n",
       "      <td>0</td>\n",
       "      <td>0</td>\n",
       "      <td>13</td>\n",
       "      <td>0</td>\n",
       "      <td>0</td>\n",
       "      <td>0</td>\n",
       "      <td>0</td>\n",
       "      <td>0</td>\n",
       "      <td>0</td>\n",
       "      <td>0</td>\n",
       "      <td>0</td>\n",
       "      <td>0</td>\n",
       "      <td>0</td>\n",
       "      <td>0</td>\n",
       "      <td>0</td>\n",
       "      <td>0</td>\n",
       "      <td>0</td>\n",
       "      <td>1</td>\n",
       "      <td>0</td>\n",
       "      <td>0</td>\n",
       "      <td>0</td>\n",
       "      <td>0</td>\n",
       "      <td>4</td>\n",
       "      <td>4</td>\n",
       "      <td>6</td>\n",
       "      <td>6</td>\n",
       "      <td>2</td>\n",
       "      <td>0</td>\n",
       "      <td>18</td>\n",
       "      <td>0</td>\n",
       "    </tr>\n",
       "    <tr>\n",
       "      <th rowspan=\"2\" valign=\"top\">2012020002</th>\n",
       "      <th>9</th>\n",
       "      <td>152468321</td>\n",
       "      <td>17286</td>\n",
       "      <td>7</td>\n",
       "      <td>4</td>\n",
       "      <td>37</td>\n",
       "      <td>21</td>\n",
       "      <td>1</td>\n",
       "      <td>2</td>\n",
       "      <td>14</td>\n",
       "      <td>28</td>\n",
       "      <td>63</td>\n",
       "      <td>5</td>\n",
       "      <td>7</td>\n",
       "      <td>0</td>\n",
       "      <td>0</td>\n",
       "      <td>14</td>\n",
       "      <td>15</td>\n",
       "      <td>14002</td>\n",
       "      <td>2384</td>\n",
       "      <td>900</td>\n",
       "      <td>622</td>\n",
       "      <td>0.0</td>\n",
       "      <td>0.0</td>\n",
       "      <td>18.0</td>\n",
       "      <td>11</td>\n",
       "      <td>0</td>\n",
       "      <td>0</td>\n",
       "      <td>0</td>\n",
       "      <td>10</td>\n",
       "      <td>0</td>\n",
       "      <td>1</td>\n",
       "      <td>0</td>\n",
       "      <td>1</td>\n",
       "      <td>0</td>\n",
       "      <td>0</td>\n",
       "      <td>0</td>\n",
       "      <td>0</td>\n",
       "      <td>0</td>\n",
       "      <td>0</td>\n",
       "      <td>0</td>\n",
       "      <td>0</td>\n",
       "      <td>0</td>\n",
       "      <td>0</td>\n",
       "      <td>1</td>\n",
       "      <td>0</td>\n",
       "      <td>0</td>\n",
       "      <td>3</td>\n",
       "      <td>0</td>\n",
       "      <td>2</td>\n",
       "      <td>5</td>\n",
       "      <td>6</td>\n",
       "      <td>3</td>\n",
       "      <td>4</td>\n",
       "      <td>0</td>\n",
       "      <td>18</td>\n",
       "      <td>0</td>\n",
       "    </tr>\n",
       "    <tr>\n",
       "      <th>52</th>\n",
       "      <td>152479865</td>\n",
       "      <td>17700</td>\n",
       "      <td>2</td>\n",
       "      <td>1</td>\n",
       "      <td>28</td>\n",
       "      <td>29</td>\n",
       "      <td>1</td>\n",
       "      <td>2</td>\n",
       "      <td>6</td>\n",
       "      <td>35</td>\n",
       "      <td>63</td>\n",
       "      <td>4</td>\n",
       "      <td>18</td>\n",
       "      <td>0</td>\n",
       "      <td>0</td>\n",
       "      <td>10</td>\n",
       "      <td>-15</td>\n",
       "      <td>14000</td>\n",
       "      <td>720</td>\n",
       "      <td>2980</td>\n",
       "      <td>615</td>\n",
       "      <td>0.0</td>\n",
       "      <td>18.0</td>\n",
       "      <td>0.0</td>\n",
       "      <td>3</td>\n",
       "      <td>0</td>\n",
       "      <td>0</td>\n",
       "      <td>0</td>\n",
       "      <td>8</td>\n",
       "      <td>0</td>\n",
       "      <td>0</td>\n",
       "      <td>0</td>\n",
       "      <td>0</td>\n",
       "      <td>1</td>\n",
       "      <td>0</td>\n",
       "      <td>0</td>\n",
       "      <td>0</td>\n",
       "      <td>1</td>\n",
       "      <td>0</td>\n",
       "      <td>0</td>\n",
       "      <td>0</td>\n",
       "      <td>0</td>\n",
       "      <td>0</td>\n",
       "      <td>1</td>\n",
       "      <td>0</td>\n",
       "      <td>0</td>\n",
       "      <td>1</td>\n",
       "      <td>1</td>\n",
       "      <td>5</td>\n",
       "      <td>7</td>\n",
       "      <td>6</td>\n",
       "      <td>3</td>\n",
       "      <td>2</td>\n",
       "      <td>0</td>\n",
       "      <td>18</td>\n",
       "      <td>0</td>\n",
       "    </tr>\n",
       "    <tr>\n",
       "      <th>2012020003</th>\n",
       "      <th>16</th>\n",
       "      <td>152498552</td>\n",
       "      <td>17491</td>\n",
       "      <td>7</td>\n",
       "      <td>5</td>\n",
       "      <td>22</td>\n",
       "      <td>22</td>\n",
       "      <td>1</td>\n",
       "      <td>1</td>\n",
       "      <td>10</td>\n",
       "      <td>31</td>\n",
       "      <td>63</td>\n",
       "      <td>1</td>\n",
       "      <td>7</td>\n",
       "      <td>0</td>\n",
       "      <td>0</td>\n",
       "      <td>15</td>\n",
       "      <td>10</td>\n",
       "      <td>12805</td>\n",
       "      <td>2064</td>\n",
       "      <td>2622</td>\n",
       "      <td>600</td>\n",
       "      <td>0.0</td>\n",
       "      <td>0.0</td>\n",
       "      <td>18.0</td>\n",
       "      <td>12</td>\n",
       "      <td>0</td>\n",
       "      <td>0</td>\n",
       "      <td>0</td>\n",
       "      <td>9</td>\n",
       "      <td>0</td>\n",
       "      <td>1</td>\n",
       "      <td>0</td>\n",
       "      <td>0</td>\n",
       "      <td>0</td>\n",
       "      <td>0</td>\n",
       "      <td>0</td>\n",
       "      <td>0</td>\n",
       "      <td>0</td>\n",
       "      <td>0</td>\n",
       "      <td>0</td>\n",
       "      <td>0</td>\n",
       "      <td>0</td>\n",
       "      <td>0</td>\n",
       "      <td>0</td>\n",
       "      <td>1</td>\n",
       "      <td>0</td>\n",
       "      <td>4</td>\n",
       "      <td>0</td>\n",
       "      <td>3</td>\n",
       "      <td>3</td>\n",
       "      <td>6</td>\n",
       "      <td>5</td>\n",
       "      <td>4</td>\n",
       "      <td>0</td>\n",
       "      <td>18</td>\n",
       "      <td>0</td>\n",
       "    </tr>\n",
       "  </tbody>\n",
       "</table>\n",
       "</div>"
      ],
      "text/plain": [
       "                    player_id  timeOnIce  assists  goals  shots  hits  powerPlayGoals  powerPlayAssists  penaltyMinutes  faceOffWins  faceoffTaken  takeaways  giveaways  shortHandedGoals  shortHandedAssists  blocked  plusMinus  evenTimeOnIce  shortHandedTimeOnIce  powerPlayTimeOnIce  age  isPlayoff  home   won  Points  nationality_AUS  nationality_AUT  nationality_BLR  nationality_CAN  nationality_CHE  nationality_CZE  nationality_DEU  nationality_DNK  nationality_FIN  nationality_FRA  nationality_GBR  nationality_HRV  nationality_KAZ  nationality_LTU  nationality_LVA  nationality_NGA  nationality_NLD  nationality_NOR  nationality_RUS  nationality_SVK  nationality_SVN  nationality_SWE  nationality_UKR  nationality_USA  primaryPosition_C  primaryPosition_D  primaryPosition_LW  primaryPosition_RW  settled_in_OT  settled_in_REG  settled_in_SO\n",
       "game_id    team_id                                                                                                                                                                                                                                                                                                                                                                                                                                                                                                                                                                                                                                                                                                                                                                                                                                                                 \n",
       "2012020001 4        152498864      17800        2      1     27    40               0                 0               6           27            62          8         11                 0                   0       12          0          13930                  1012                2858  589        0.0  18.0   0.0       3                0                0                0               13                0                1                0                0                1                0                0                0                0                0                0                0                0                0                0                1                0                1                1                0                  6                  6                   3                   3              0              18              0\n",
       "           5        152471364      17401        4      3     27    37               2                 3              10           35            62         10          6                 0                   0       12          0          13896                  2260                1245  627        0.0   0.0  18.0       7                0                0                0               13                0                0                0                0                0                0                0                0                0                0                0                0                0                0                1                0                0                0                0                4                  4                  6                   6                   2              0              18              0\n",
       "2012020002 9        152468321      17286        7      4     37    21               1                 2              14           28            63          5          7                 0                   0       14         15          14002                  2384                 900  622        0.0   0.0  18.0      11                0                0                0               10                0                1                0                1                0                0                0                0                0                0                0                0                0                0                1                0                0                3                0                2                  5                  6                   3                   4              0              18              0\n",
       "           52       152479865      17700        2      1     28    29               1                 2               6           35            63          4         18                 0                   0       10        -15          14000                   720                2980  615        0.0  18.0   0.0       3                0                0                0                8                0                0                0                0                1                0                0                0                1                0                0                0                0                0                1                0                0                1                1                5                  7                  6                   3                   2              0              18              0\n",
       "2012020003 16       152498552      17491        7      5     22    22               1                 1              10           31            63          1          7                 0                   0       15         10          12805                  2064                2622  600        0.0   0.0  18.0      12                0                0                0                9                0                1                0                0                0                0                0                0                0                0                0                0                0                0                0                1                0                4                0                3                  3                  6                   5                   4              0              18              0"
      ]
     },
     "execution_count": 116,
     "metadata": {},
     "output_type": "execute_result"
    }
   ],
   "source": [
    "view1 = view.groupby(['game_id', 'team_id']).sum()\n",
    "view1.head()"
   ]
  },
  {
   "cell_type": "code",
   "execution_count": 117,
   "metadata": {},
   "outputs": [
    {
     "data": {
      "text/plain": [
       "5"
      ]
     },
     "execution_count": 117,
     "metadata": {},
     "output_type": "execute_result"
    }
   ],
   "source": [
    "# Find the number of unique values in won to determine if the series needs further cleaning.\n",
    "view1.won.nunique()"
   ]
  },
  {
   "cell_type": "code",
   "execution_count": 118,
   "metadata": {},
   "outputs": [],
   "source": [
    "# Clean the data further by removing any 'won' values less than 0\n",
    "view1['won'] = view1.won > 0"
   ]
  },
  {
   "cell_type": "code",
   "execution_count": 119,
   "metadata": {},
   "outputs": [
    {
     "data": {
      "text/plain": [
       "DecisionTreeClassifier(class_weight=None, criterion='gini', max_depth=2,\n",
       "            max_features=None, max_leaf_nodes=None,\n",
       "            min_impurity_decrease=0.0, min_impurity_split=None,\n",
       "            min_samples_leaf=1, min_samples_split=2,\n",
       "            min_weight_fraction_leaf=0.0, presort=False, random_state=None,\n",
       "            splitter='best')"
      ]
     },
     "execution_count": 119,
     "metadata": {},
     "output_type": "execute_result"
    }
   ],
   "source": [
    "# Assign attributes to X and Y to train the decision tree \n",
    "X = view1.drop('won', axis=1)\n",
    "Y = view1.won\n",
    "dt.fit(X, Y)"
   ]
  },
  {
   "cell_type": "code",
   "execution_count": 120,
   "metadata": {},
   "outputs": [
    {
     "data": {
      "image/png": "[encoded data removed]",
      "text/plain": [
       "<IPython.core.display.Image object>"
      ]
     },
     "execution_count": 120,
     "metadata": {},
     "output_type": "execute_result"
    }
   ],
   "source": [
    "# Train and visualize a decision tree with attributes in X and Y\n",
    "dt_feature_names = list(X.columns)\n",
    "dt_target_names = [str(s) for s in Y.unique()]\n",
    "tree.export_graphviz(dt, out_file='tree.dot', \n",
    "    feature_names=dt_feature_names, class_names=dt_target_names,\n",
    "    filled=True)  \n",
    "graph = pydotplus.graph_from_dot_file('tree.dot')\n",
    "Image(graph.create_png())"
   ]
  },
  {
   "cell_type": "markdown",
   "metadata": {},
   "source": [
    "This decision tree clearly shows that the only way to win a game with a negative plus/minus is in a penalty shootout, which takes place after overtime. Let us validate this data with a chart."
   ]
  },
  {
   "cell_type": "code",
   "execution_count": 121,
   "metadata": {},
   "outputs": [
    {
     "data": {
      "text/plain": [
       "<seaborn.axisgrid.FacetGrid at 0x1a2c1678d0>"
      ]
     },
     "execution_count": 121,
     "metadata": {},
     "output_type": "execute_result"
    },
    {
     "data": {
      "image/png": "[encoded data removed]",
      "text/plain": [
       "<Figure size 939.75x288 with 1 Axes>"
      ]
     },
     "metadata": {},
     "output_type": "display_data"
    }
   ],
   "source": [
    "sns.factorplot(x='plusMinus',y='won',hue='settled_in_SO',\\\n",
    "              data=view1,aspect=3)"
   ]
  },
  {
   "cell_type": "markdown",
   "metadata": {},
   "source": [
    "Wow! It is clear that teams with a negative plus/minus can win through a shootout, but let us use our non-grouped data to create a chart that can more clearly visualize the data."
   ]
  },
  {
   "cell_type": "code",
   "execution_count": 122,
   "metadata": {},
   "outputs": [
    {
     "data": {
      "text/plain": [
       "<seaborn.axisgrid.FacetGrid at 0x1a1e501a58>"
      ]
     },
     "execution_count": 122,
     "metadata": {},
     "output_type": "execute_result"
    },
    {
     "data": {
      "image/png": "[encoded data removed]",
      "text/plain": [
       "<Figure size 939.75x288 with 1 Axes>"
      ]
     },
     "metadata": {},
     "output_type": "display_data"
    }
   ],
   "source": [
    "sns.factorplot(x='plusMinus',y='won',hue='settled_in_SO', data=view, aspect=3)"
   ]
  },
  {
   "cell_type": "markdown",
   "metadata": {},
   "source": [
    "The above chart clearly shows that in a shootout, teams with a negative plus/minus can still win."
   ]
  },
  {
   "cell_type": "markdown",
   "metadata": {},
   "source": [
    "#### **Managerial Insight:**\n",
    "####  **As it is highly unlikely to have a negative plus/minus and be winning, this analysis shows managers that if they have a negative plus/minus at the end of overtime, or even the regular period and the game is tied, the best strategy to take to get a win is to play defensively and aim to reach the penalty shootout. A negative plus/minus and the game being tied means that the other team has been scoring even or shorthanded goals and your team has been scoring power-play goals.**\n",
    "#### **For example, if the other team scored 2 even-strength goals and your team scored two power-play goals, your plus/minus would be -2 and the score would be tied. If this is the case during overtime of a game, coaches often tell their teams to try and push for another powerplay goal. However, these goals are unlikely because the other team will be more careful committing fouls after already giving up goals in that way. Thus, the best strategy to take in this situation is to play defensively and aim to reach the penalty shootout.**\n",
    "#### **This can also help conserve player stamina during long playoff series.**"
   ]
  },
  {
   "cell_type": "code",
   "execution_count": null,
   "metadata": {},
   "outputs": [],
   "source": []
  }
 ],
 "metadata": {
  "kernelspec": {
   "display_name": "Python 3",
   "language": "python",
   "name": "python3"
  },
  "language_info": {
   "codemirror_mode": {
    "name": "ipython",
    "version": 3
   },
   "file_extension": ".py",
   "mimetype": "text/x-python",
   "name": "python",
   "nbconvert_exporter": "python",
   "pygments_lexer": "ipython3",
   "version": "3.6.5"
  }
 },
 "nbformat": 4,
 "nbformat_minor": 2
}
